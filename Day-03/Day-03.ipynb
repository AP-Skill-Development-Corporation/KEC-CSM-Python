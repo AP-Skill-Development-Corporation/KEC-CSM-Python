{
 "cells": [
  {
   "cell_type": "markdown",
   "id": "e2b1f51b",
   "metadata": {},
   "source": [
    "## Conditional Statements\n",
    "    - To Check whether a given condition is either True or False\n",
    "    - if => single case\n",
    "    - if-else => 2 cases\n",
    "    - nested if => 2 or more cases\n",
    "    - elif => 3 or more n number of cases"
   ]
  },
  {
   "cell_type": "markdown",
   "id": "35c0c6f9",
   "metadata": {},
   "source": [
    "## if\n",
    "    Syntax:\n",
    "        if condition:\n",
    "            //stmnts\n",
    "        () => Optional"
   ]
  },
  {
   "cell_type": "code",
   "execution_count": 2,
   "id": "2bcc9a82",
   "metadata": {},
   "outputs": [
    {
     "name": "stdout",
     "output_type": "stream",
     "text": [
      "Enter a number: 5\n",
      "Given number 5 is equal to 5\n"
     ]
    }
   ],
   "source": [
    "n = int(input(\"Enter a number: \"))\n",
    "if n == 5:\n",
    "    print(f\"Given number {n} is equal to 5\")"
   ]
  },
  {
   "cell_type": "markdown",
   "id": "7716c893",
   "metadata": {},
   "source": [
    "```\n",
    "    Task:\n",
    "        5x^3\n",
    "        value to fix: 3\n",
    "    Input:\n",
    "        Enter a number: ?\n",
    "        Enter a value for expression: ?\n",
    "    Output:\n",
    "        Entered number is: ?\n",
    "        Expression of 5x^3 is: ?\n",
    "```"
   ]
  },
  {
   "cell_type": "code",
   "execution_count": 7,
   "id": "13194cb2",
   "metadata": {},
   "outputs": [
    {
     "name": "stdout",
     "output_type": "stream",
     "text": [
      "Enter a number: 3\n",
      "Enter a Value for expression: 2\n",
      "Entered Value is: 3\n",
      "Expression of 5x^3 is: 40\n"
     ]
    }
   ],
   "source": [
    "a=int(input(\"Enter a number: \"))\n",
    "if a==3:\n",
    "    x=int(input(\"Enter a Value for expression: \"))\n",
    "    print(f\"Entered Value is: {a}\")\n",
    "    print(f\"Expression of 5x^3 is: {5*(x**3)}\")"
   ]
  },
  {
   "cell_type": "markdown",
   "id": "52ce1c37",
   "metadata": {},
   "source": [
    "## If-else\n",
    "    Syntax:\n",
    "        if condition:\n",
    "            //statement\n",
    "        else:\n",
    "            //statement"
   ]
  },
  {
   "cell_type": "code",
   "execution_count": 9,
   "id": "a3c2694d",
   "metadata": {},
   "outputs": [
    {
     "name": "stdout",
     "output_type": "stream",
     "text": [
      "Enter a number: 45\n",
      "Entered number 45 is Less than 50\n"
     ]
    }
   ],
   "source": [
    "n = int(input(\"Enter a number: \"))\n",
    "if n<50:\n",
    "    print(f\"Entered number {n} is Less than 50\")\n",
    "else:\n",
    "    print(f\"Entered number {n} is Greater than 50\")"
   ]
  },
  {
   "cell_type": "markdown",
   "id": "3866579c",
   "metadata": {},
   "source": [
    "```\n",
    "    Task\n",
    "    even => 2x^2+3y\n",
    "    odd => 5x^3+7y+45\n",
    "    Input-1:\n",
    "        Enter a number: ?\n",
    "        Enter x value: ?\n",
    "        Enter y value: ?\n",
    "    Output-1: \n",
    "        Entered number ? is Even\n",
    "        Expression for 2x^2+3y is: ?\n",
    "   Input-2:\n",
    "       Enter a number: ?\n",
    "       Enter x value: ?\n",
    "       Enter y value: ?\n",
    "   Output-2:\n",
    "       Entered number ? is Odd\n",
    "       Expression for 5x^3+7y+45 is: ?\n",
    "```"
   ]
  },
  {
   "cell_type": "code",
   "execution_count": 11,
   "id": "c248323b",
   "metadata": {},
   "outputs": [
    {
     "name": "stdout",
     "output_type": "stream",
     "text": [
      "Enter a number: 3\n",
      "Enter x value: 2\n",
      "Enter y value: 2\n",
      "Entered number 3 is Odd\n",
      "Expression for 5x^3+7y+45 is: 99\n"
     ]
    }
   ],
   "source": [
    "n = int(input(\"Enter a number: \"))\n",
    "x = int(input(\"Enter x value: \"))\n",
    "y = int(input(\"Enter y value: \"))\n",
    "if n%2==0:\n",
    "    print(f\"Entered number {n} i Even\")\n",
    "    print(f\"Expression for 2x^2+3y is: {2*x**2+3*y}\")\n",
    "else:\n",
    "    print(f\"Entered number {n} is Odd\")\n",
    "    print(f\"Expression for 5x^3+7y+45 is: {5*x**3+7*y+45}\")"
   ]
  },
  {
   "cell_type": "markdown",
   "id": "39fbe333",
   "metadata": {},
   "source": [
    "## Nested if:\n",
    "    Syntax:\n",
    "        if condition-1:\n",
    "            if condition-2:\n",
    "                //stmnt-1\n",
    "            else:\n",
    "                //stnmt-2\n",
    "        else:\n",
    "            //stmnt-n"
   ]
  },
  {
   "cell_type": "code",
   "execution_count": 14,
   "id": "10768601",
   "metadata": {},
   "outputs": [
    {
     "name": "stdout",
     "output_type": "stream",
     "text": [
      "Enter a number: 50\n",
      "Entered number 50 is Less than 100\n"
     ]
    }
   ],
   "source": [
    "n = int(input(\"Enter a number: \"))\n",
    "if n<200:\n",
    "    if n<100:\n",
    "        print(f\"Entered number {n} is Less than 100\")\n",
    "    else:\n",
    "        print(f\"Entered number {n} is Greater than 100\")\n",
    "else:\n",
    "    print(f\"Entered number {n} is Greater than 200\")"
   ]
  },
  {
   "cell_type": "code",
   "execution_count": 22,
   "id": "18b49886",
   "metadata": {},
   "outputs": [
    {
     "name": "stdout",
     "output_type": "stream",
     "text": [
      "enter a value: 45\n",
      "enter b value: 23\n",
      "enter c value: 78\n",
      "45 is greater than 23 and 78\n"
     ]
    }
   ],
   "source": [
    "a=int(input(\"enter a value: \"))\n",
    "b=int(input(\"enter b value: \"))\n",
    "c=int(input(\"enter c value: \"))\n",
    "if(a<b):\n",
    "    if(b>c):\n",
    "        print(f\"{b} is greater than {a} and {c}\")\n",
    "    else:\n",
    "        print(f\"{c} is greater than {a} and {b}\")\n",
    "else:\n",
    "    print(f\"{a} is greater than {b} and {c}\")"
   ]
  },
  {
   "cell_type": "code",
   "execution_count": 26,
   "id": "aef1fe0c",
   "metadata": {},
   "outputs": [
    {
     "name": "stdout",
     "output_type": "stream",
     "text": [
      "Enter a value:23\n",
      "Enter b value:456\n",
      "Enter c value:12\n",
      "12 is greater\n"
     ]
    }
   ],
   "source": [
    "a=int(input(\"Enter a value:\"))\n",
    "b=int(input(\"Enter b value:\"))\n",
    "c=int(input(\"Enter c value:\"))\n",
    "if(a>b and a>c):\n",
    "    if(b>a and b>c):\n",
    "        print(f\"{b} is greater\")\n",
    "    else:\n",
    "        print(f\"{a} is greater\")\n",
    "else:\n",
    "    print(f\"{c} is greater\")"
   ]
  },
  {
   "cell_type": "code",
   "execution_count": 40,
   "id": "7eb80efe",
   "metadata": {},
   "outputs": [
    {
     "name": "stdout",
     "output_type": "stream",
     "text": [
      "Enter a Value:56\n",
      "Enter b Value:78\n",
      "Enter c Value:200\n",
      "200 Is Greatest\n"
     ]
    }
   ],
   "source": [
    "a=int(input(\"Enter a Value:\"))\n",
    "b=int(input(\"Enter b Value:\"))\n",
    "c=int(input(\"Enter c Value:\"))\n",
    "if(a<b):\n",
    "    if(c>b):\n",
    "        print(f\"{c} Is Greatest\")\n",
    "    else:\n",
    "        print(f\"{b} Is Greatest\")\n",
    "else:\n",
    "    if(a>c):\n",
    "        print(f\"{a} Is Greatest\")\n",
    "    else:\n",
    "        print(f\"{c} Is Geartest\")\n",
    "        "
   ]
  },
  {
   "cell_type": "markdown",
   "id": "36a10846",
   "metadata": {},
   "source": [
    "## Elif\n",
    "    Syntax:\n",
    "        if condition-1:\n",
    "            //stmnt-1\n",
    "        elif condition-2:\n",
    "            //stmnt-2\n",
    "            |       |\n",
    "        elif condition-n:\n",
    "            //stmnt-n\n",
    "        else:\n",
    "            //stmnt-(n-2)"
   ]
  },
  {
   "cell_type": "code",
   "execution_count": 46,
   "id": "60282eb2",
   "metadata": {},
   "outputs": [
    {
     "name": "stdout",
     "output_type": "stream",
     "text": [
      "Enter a number: 9\n",
      "Entered number 9 is divisible by 3\n"
     ]
    }
   ],
   "source": [
    "n = int(input(\"Enter a number: \"))\n",
    "if n%2==0 and n%3==0:\n",
    "    print(f\"Entered number {n} is divisibleby 2 and 3\")\n",
    "elif n%2==0:\n",
    "    print(f\"Entered number {n} is Even\")\n",
    "elif n%3==0:\n",
    "    print(f\"Entered number {n} is divisible by 3\")\n",
    "else:\n",
    "    print(f\"Entered number {n} is Odd\")"
   ]
  },
  {
   "cell_type": "markdown",
   "id": "d0150915",
   "metadata": {},
   "source": [
    "## Loops:\n",
    "    - To iterate a statement for n number of times untill the condition is false\n",
    "    - for => known ranges\n",
    "    - while => known and unknown ranges"
   ]
  },
  {
   "cell_type": "markdown",
   "id": "ba4b7fc0",
   "metadata": {},
   "source": [
    "## For\n",
    "    Syntax:\n",
    "        for iterationvariablename in range(start,stop,step):\n",
    "            //statements\n",
    "                            or\n",
    "        for iterationvariablename in iterator:\n",
    "            //statements\n",
    "        \n",
    "        Iterators: List,tuple,string,set and dictionary"
   ]
  },
  {
   "cell_type": "markdown",
   "id": "501c0e12",
   "metadata": {},
   "source": [
    "## range\n",
    "    - range(stop):\n",
    "        - By default it starts with 0\n",
    "        - It increments with +1 value\n",
    "        - It stops with stop-1 value\n",
    "        Ex: range(5)\n",
    "            0 1 2 3 4\n",
    "    - range(start,stop):\n",
    "        - It starts exactly with start value\n",
    "        - It increments with +1 value\n",
    "        - It stops with stop-1 value\n",
    "        Ex: range(1,6)\n",
    "            1 2 3 4 5\n",
    "    - range(start,stop,step):\n",
    "        - It starts exactly with start value\n",
    "        - It increments/decrements with step value\n",
    "        - It stops with stop-1 value\n",
    "        Ex: range(1,10,3)\n",
    "            1 4 7"
   ]
  },
  {
   "cell_type": "code",
   "execution_count": 54,
   "id": "954524d2",
   "metadata": {},
   "outputs": [
    {
     "name": "stdout",
     "output_type": "stream",
     "text": [
      "Enter a range: 6\n",
      "0 1 2 3 4 5 "
     ]
    }
   ],
   "source": [
    "n = int(input(\"Enter a range: \"))\n",
    "for i in range(n):\n",
    "    print(i,end=\" \")"
   ]
  },
  {
   "cell_type": "code",
   "execution_count": 55,
   "id": "f8d46eb9",
   "metadata": {},
   "outputs": [
    {
     "name": "stdout",
     "output_type": "stream",
     "text": [
      "Enter a range: 10\n",
      "0 2 4 6 8 "
     ]
    }
   ],
   "source": [
    "n = int(input(\"Enter a range: \"))\n",
    "for i in range(n):\n",
    "    if i%2==0:\n",
    "        print(i,end=\" \")"
   ]
  },
  {
   "cell_type": "code",
   "execution_count": 57,
   "id": "dc5d543e",
   "metadata": {},
   "outputs": [
    {
     "name": "stdout",
     "output_type": "stream",
     "text": [
      "Enter a range: 10\n",
      "0 * 2 * 4 * 6 * 8 * "
     ]
    }
   ],
   "source": [
    "n = int(input(\"Enter a range: \"))\n",
    "for i in range(n):\n",
    "    if i%2==0:\n",
    "        print(i,end=\" \")\n",
    "    else:\n",
    "        print(\"*\",end=\" \")"
   ]
  },
  {
   "cell_type": "code",
   "execution_count": 58,
   "id": "44383f57",
   "metadata": {},
   "outputs": [
    {
     "name": "stdout",
     "output_type": "stream",
     "text": [
      "Enter start range: 10\n",
      "Enter end range: 20\n",
      "10 11 12 13 14 15 16 17 18 19 "
     ]
    }
   ],
   "source": [
    "n,m = int(input(\"Enter start range: \")),int(input(\"Enter end range: \"))\n",
    "for i in range(n,m):\n",
    "    print(i,end=\" \")"
   ]
  },
  {
   "cell_type": "code",
   "execution_count": 69,
   "id": "b2d84308",
   "metadata": {},
   "outputs": [
    {
     "name": "stdout",
     "output_type": "stream",
     "text": [
      "Enter table number: 9\n",
      "Enter start range: 11\n",
      "Enter end range: 13\n",
      "9 X 11 = 99\n",
      "9 X 12 = 108\n"
     ]
    }
   ],
   "source": [
    "p = int(input(\"Enter table number: \"))\n",
    "n = int(input(\"Enter start range: \"))\n",
    "m = int(input(\"Enter end range: \"))\n",
    "for i in range(n,m):\n",
    "    print(f\"{p} X {i} = {p*i}\")"
   ]
  },
  {
   "cell_type": "code",
   "execution_count": 65,
   "id": "9c0ba05f",
   "metadata": {},
   "outputs": [
    {
     "name": "stdout",
     "output_type": "stream",
     "text": [
      "Enter start range: 10\n",
      "Enter end range: 20\n",
      "Enter step value: 3\n",
      "10 13 16 19 "
     ]
    }
   ],
   "source": [
    "n = int(input(\"Enter start range: \"))\n",
    "m = int(input(\"Enter end range: \"))\n",
    "s = int(input(\"Enter step value: \"))\n",
    "for i in range(n,m,s):\n",
    "    print(i,end=\" \")"
   ]
  },
  {
   "cell_type": "markdown",
   "id": "2e27c3c3",
   "metadata": {},
   "source": [
    "```\n",
    "    Task:\n",
    "    Input-1:\n",
    "        5\n",
    "        7\n",
    "        2\n",
    "        3\n",
    "        4\n",
    "        9\n",
    "   Output-1:\n",
    "       Odd\n",
    "       Even\n",
    "       Odd\n",
    "       Even\n",
    "       Odd\n",
    "   Input-2:\n",
    "       3\n",
    "       5\n",
    "       9\n",
    "       13\n",
    "   Output-2:\n",
    "       Odd\n",
    "       Odd\n",
    "       Odd\n",
    "```"
   ]
  },
  {
   "cell_type": "code",
   "execution_count": 70,
   "id": "62e7b909",
   "metadata": {},
   "outputs": [
    {
     "name": "stdout",
     "output_type": "stream",
     "text": [
      "3\n",
      "5\n",
      "Odd\n",
      "9\n",
      "Odd\n",
      "13\n",
      "Odd\n"
     ]
    }
   ],
   "source": [
    "n = int(input())\n",
    "for i in range(n):\n",
    "    k = int(input())\n",
    "    if k%2==0:\n",
    "        print(\"Even\")\n",
    "    else:\n",
    "        print(\"Odd\")"
   ]
  },
  {
   "cell_type": "code",
   "execution_count": null,
   "id": "76783cc3",
   "metadata": {},
   "outputs": [],
   "source": []
  }
 ],
 "metadata": {
  "kernelspec": {
   "display_name": "Python 3 (ipykernel)",
   "language": "python",
   "name": "python3"
  },
  "language_info": {
   "codemirror_mode": {
    "name": "ipython",
    "version": 3
   },
   "file_extension": ".py",
   "mimetype": "text/x-python",
   "name": "python",
   "nbconvert_exporter": "python",
   "pygments_lexer": "ipython3",
   "version": "3.9.13"
  }
 },
 "nbformat": 4,
 "nbformat_minor": 5
}
