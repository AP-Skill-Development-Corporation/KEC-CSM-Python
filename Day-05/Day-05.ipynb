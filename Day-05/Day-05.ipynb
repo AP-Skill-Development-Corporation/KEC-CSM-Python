{
 "cells": [
  {
   "cell_type": "markdown",
   "id": "850c83f7",
   "metadata": {},
   "source": [
    "## Keyword Argument:"
   ]
  },
  {
   "cell_type": "code",
   "execution_count": 3,
   "id": "27334541",
   "metadata": {},
   "outputs": [
    {
     "name": "stdout",
     "output_type": "stream",
     "text": [
      "Enter Employee Id: PY56\n",
      "Enter Employee Name: Naresh\n",
      "Entered Employee Id: PY56\n",
      "Entered Employee Name: Naresh\n"
     ]
    }
   ],
   "source": [
    "def employee(b,a):\n",
    "    print(f\"Entered Employee Id: {a}\")\n",
    "    print(f\"Entered Employee Name: {b}\")\n",
    "    return\n",
    "\n",
    "ed = input(\"Enter Employee Id: \")\n",
    "ename = input(\"Enter Employee Name: \")\n",
    "employee(a=ed,b=ename)"
   ]
  },
  {
   "cell_type": "code",
   "execution_count": 4,
   "id": "87002783",
   "metadata": {},
   "outputs": [
    {
     "name": "stdout",
     "output_type": "stream",
     "text": [
      "Enter Employee Id: E67\n",
      "Enter Employee Name: Lokesh\n"
     ]
    },
    {
     "ename": "TypeError",
     "evalue": "employee() got an unexpected keyword argument 'z'",
     "output_type": "error",
     "traceback": [
      "\u001b[1;31m---------------------------------------------------------------------------\u001b[0m",
      "\u001b[1;31mTypeError\u001b[0m                                 Traceback (most recent call last)",
      "Cell \u001b[1;32mIn[4], line 8\u001b[0m\n\u001b[0;32m      6\u001b[0m ed \u001b[38;5;241m=\u001b[39m \u001b[38;5;28minput\u001b[39m(\u001b[38;5;124m\"\u001b[39m\u001b[38;5;124mEnter Employee Id: \u001b[39m\u001b[38;5;124m\"\u001b[39m)\n\u001b[0;32m      7\u001b[0m ename \u001b[38;5;241m=\u001b[39m \u001b[38;5;28minput\u001b[39m(\u001b[38;5;124m\"\u001b[39m\u001b[38;5;124mEnter Employee Name: \u001b[39m\u001b[38;5;124m\"\u001b[39m)\n\u001b[1;32m----> 8\u001b[0m \u001b[43memployee\u001b[49m\u001b[43m(\u001b[49m\u001b[43ma\u001b[49m\u001b[38;5;241;43m=\u001b[39;49m\u001b[43med\u001b[49m\u001b[43m,\u001b[49m\u001b[43mz\u001b[49m\u001b[38;5;241;43m=\u001b[39;49m\u001b[43mename\u001b[49m\u001b[43m)\u001b[49m\n",
      "\u001b[1;31mTypeError\u001b[0m: employee() got an unexpected keyword argument 'z'"
     ]
    }
   ],
   "source": [
    "def employee(b,a):\n",
    "    print(f\"Entered Employee Id: {a}\")\n",
    "    print(f\"Entered Employee Name: {b}\")\n",
    "    return\n",
    "\n",
    "ed = input(\"Enter Employee Id: \")\n",
    "ename = input(\"Enter Employee Name: \")\n",
    "employee(a=ed,z=ename)"
   ]
  },
  {
   "cell_type": "code",
   "execution_count": 6,
   "id": "f801576f",
   "metadata": {},
   "outputs": [
    {
     "name": "stdout",
     "output_type": "stream",
     "text": [
      "Enter Employee Id: Q34\n",
      "Enter Employee Name: Kavitha\n",
      "Entered Employee Id: Q34\n",
      "Entered Employee Name: Kavitha\n",
      "Salary is: 34000\n"
     ]
    }
   ],
   "source": [
    "def employee(b,a,c=34000):\n",
    "    print(f\"Entered Employee Id: {a}\")\n",
    "    print(f\"Entered Employee Name: {b}\")\n",
    "    print(f\"Salary is: {c}\")\n",
    "    return\n",
    "\n",
    "ed = input(\"Enter Employee Id: \")\n",
    "ename = input(\"Enter Employee Name: \")\n",
    "employee(a=ed,b=ename)"
   ]
  },
  {
   "cell_type": "code",
   "execution_count": 7,
   "id": "9d3897dc",
   "metadata": {},
   "outputs": [
    {
     "name": "stdout",
     "output_type": "stream",
     "text": [
      "Enter Employee Id: K678\n",
      "Enter Employee Name: Harish\n",
      "Enter Salary: 25000\n",
      "Entered Employee Id: K678\n",
      "Entered Employee Name: Harish\n",
      "Salary is: 25000\n"
     ]
    }
   ],
   "source": [
    "def employee(b,a,c=34000):\n",
    "    print(f\"Entered Employee Id: {a}\")\n",
    "    print(f\"Entered Employee Name: {b}\")\n",
    "    print(f\"Salary is: {c}\")\n",
    "    return\n",
    "\n",
    "ed = input(\"Enter Employee Id: \")\n",
    "ename = input(\"Enter Employee Name: \")\n",
    "esal = int(input(\"Enter Salary: \"))\n",
    "employee(c=esal,a=ed,b=ename)"
   ]
  },
  {
   "cell_type": "markdown",
   "id": "c63bda66",
   "metadata": {},
   "source": [
    "## Required or Positional Argument"
   ]
  },
  {
   "cell_type": "code",
   "execution_count": 8,
   "id": "ef3cf6e2",
   "metadata": {},
   "outputs": [
    {
     "name": "stdout",
     "output_type": "stream",
     "text": [
      "Enter Employee Id: M4545\n",
      "Enter Employee Name: Eswar\n"
     ]
    },
    {
     "ename": "TypeError",
     "evalue": "emp() missing 1 required positional argument: 'c'",
     "output_type": "error",
     "traceback": [
      "\u001b[1;31m---------------------------------------------------------------------------\u001b[0m",
      "\u001b[1;31mTypeError\u001b[0m                                 Traceback (most recent call last)",
      "Cell \u001b[1;32mIn[8], line 9\u001b[0m\n\u001b[0;32m      7\u001b[0m n \u001b[38;5;241m=\u001b[39m \u001b[38;5;28minput\u001b[39m(\u001b[38;5;124m\"\u001b[39m\u001b[38;5;124mEnter Employee Id: \u001b[39m\u001b[38;5;124m\"\u001b[39m)\n\u001b[0;32m      8\u001b[0m z \u001b[38;5;241m=\u001b[39m \u001b[38;5;28minput\u001b[39m(\u001b[38;5;124m\"\u001b[39m\u001b[38;5;124mEnter Employee Name: \u001b[39m\u001b[38;5;124m\"\u001b[39m)\n\u001b[1;32m----> 9\u001b[0m \u001b[43memp\u001b[49m\u001b[43m(\u001b[49m\u001b[43mn\u001b[49m\u001b[43m,\u001b[49m\u001b[43mz\u001b[49m\u001b[43m)\u001b[49m\n",
      "\u001b[1;31mTypeError\u001b[0m: emp() missing 1 required positional argument: 'c'"
     ]
    }
   ],
   "source": [
    "def emp(a,b,c):\n",
    "    print(f\"Entered Employee Name is: {b}\")\n",
    "    print(f\"Entered Employee id: {a}\")\n",
    "    print(f\"Entered Salary is: {c}\")\n",
    "    return\n",
    "\n",
    "n = input(\"Enter Employee Id: \")\n",
    "z = input(\"Enter Employee Name: \")\n",
    "emp(n,z)"
   ]
  },
  {
   "cell_type": "code",
   "execution_count": 9,
   "id": "7864f959",
   "metadata": {},
   "outputs": [
    {
     "name": "stdout",
     "output_type": "stream",
     "text": [
      "Enter Employee Id: E23\n",
      "Enter Employee Name: Prasanna\n",
      "Enter Salary: 15000\n",
      "Entered Employee Name is: Prasanna\n",
      "Entered Employee id: E23\n",
      "Entered Salary is: 15000\n"
     ]
    }
   ],
   "source": [
    "def emp(a,b,c):\n",
    "    print(f\"Entered Employee Name is: {b}\")\n",
    "    print(f\"Entered Employee id: {a}\")\n",
    "    print(f\"Entered Salary is: {c}\")\n",
    "    return\n",
    "\n",
    "n = input(\"Enter Employee Id: \")\n",
    "z = input(\"Enter Employee Name: \")\n",
    "u = input(\"Enter Salary: \")\n",
    "emp(n,z,u)"
   ]
  },
  {
   "cell_type": "code",
   "execution_count": 10,
   "id": "05ba4d29",
   "metadata": {},
   "outputs": [
    {
     "name": "stdout",
     "output_type": "stream",
     "text": [
      "Enter Employee Id: j567\n",
      "Enter Employee Name: Jagadeesh\n",
      "Enter Salary: 19000\n",
      "Enter Address: Kuppam\n"
     ]
    },
    {
     "ename": "TypeError",
     "evalue": "emp() takes 3 positional arguments but 4 were given",
     "output_type": "error",
     "traceback": [
      "\u001b[1;31m---------------------------------------------------------------------------\u001b[0m",
      "\u001b[1;31mTypeError\u001b[0m                                 Traceback (most recent call last)",
      "Cell \u001b[1;32mIn[10], line 11\u001b[0m\n\u001b[0;32m      9\u001b[0m u \u001b[38;5;241m=\u001b[39m \u001b[38;5;28minput\u001b[39m(\u001b[38;5;124m\"\u001b[39m\u001b[38;5;124mEnter Salary: \u001b[39m\u001b[38;5;124m\"\u001b[39m)\n\u001b[0;32m     10\u001b[0m y \u001b[38;5;241m=\u001b[39m \u001b[38;5;28minput\u001b[39m(\u001b[38;5;124m\"\u001b[39m\u001b[38;5;124mEnter Address: \u001b[39m\u001b[38;5;124m\"\u001b[39m)\n\u001b[1;32m---> 11\u001b[0m \u001b[43memp\u001b[49m\u001b[43m(\u001b[49m\u001b[43mn\u001b[49m\u001b[43m,\u001b[49m\u001b[43mz\u001b[49m\u001b[43m,\u001b[49m\u001b[43mu\u001b[49m\u001b[43m,\u001b[49m\u001b[43my\u001b[49m\u001b[43m)\u001b[49m\n",
      "\u001b[1;31mTypeError\u001b[0m: emp() takes 3 positional arguments but 4 were given"
     ]
    }
   ],
   "source": [
    "def emp(a,b,c):\n",
    "    print(f\"Entered Employee Name is: {b}\")\n",
    "    print(f\"Entered Employee id: {a}\")\n",
    "    print(f\"Entered Salary is: {c}\")\n",
    "    return\n",
    "\n",
    "n = input(\"Enter Employee Id: \")\n",
    "z = input(\"Enter Employee Name: \")\n",
    "u = input(\"Enter Salary: \")\n",
    "y = input(\"Enter Address: \")\n",
    "emp(n,z,u,y)"
   ]
  },
  {
   "cell_type": "markdown",
   "id": "34bb1691",
   "metadata": {},
   "source": [
    "## Variable Length Argument:"
   ]
  },
  {
   "cell_type": "code",
   "execution_count": 11,
   "id": "4ca1420b",
   "metadata": {},
   "outputs": [
    {
     "ename": "TypeError",
     "evalue": "sp() takes 1 positional argument but 4 were given",
     "output_type": "error",
     "traceback": [
      "\u001b[1;31m---------------------------------------------------------------------------\u001b[0m",
      "\u001b[1;31mTypeError\u001b[0m                                 Traceback (most recent call last)",
      "Cell \u001b[1;32mIn[11], line 5\u001b[0m\n\u001b[0;32m      2\u001b[0m     \u001b[38;5;28mprint\u001b[39m(y,\u001b[38;5;28mtype\u001b[39m(y))\n\u001b[0;32m      3\u001b[0m     \u001b[38;5;28;01mreturn\u001b[39;00m\n\u001b[1;32m----> 5\u001b[0m \u001b[43msp\u001b[49m\u001b[43m(\u001b[49m\u001b[38;5;241;43m12\u001b[39;49m\u001b[43m,\u001b[49m\u001b[38;5;124;43m'\u001b[39;49m\u001b[38;5;124;43mNaresh\u001b[39;49m\u001b[38;5;124;43m'\u001b[39;49m\u001b[43m,\u001b[49m\u001b[38;5;241;43m78.012\u001b[39;49m\u001b[43m,\u001b[49m\u001b[38;5;28;43;01mFalse\u001b[39;49;00m\u001b[43m)\u001b[49m\n",
      "\u001b[1;31mTypeError\u001b[0m: sp() takes 1 positional argument but 4 were given"
     ]
    }
   ],
   "source": [
    "def sp(y):\n",
    "    print(y,type(y))\n",
    "    return\n",
    "\n",
    "sp(12,'Naresh',78.012,False)"
   ]
  },
  {
   "cell_type": "code",
   "execution_count": 12,
   "id": "9fe2f6be",
   "metadata": {},
   "outputs": [
    {
     "name": "stdout",
     "output_type": "stream",
     "text": [
      "(12, 'Naresh', 78.012, False) <class 'tuple'>\n"
     ]
    }
   ],
   "source": [
    "def sp(*y):\n",
    "    print(y,type(y))\n",
    "    return\n",
    "\n",
    "sp(12,'Naresh',78.012,False)"
   ]
  },
  {
   "cell_type": "code",
   "execution_count": 13,
   "id": "89092d88",
   "metadata": {},
   "outputs": [
    {
     "name": "stdout",
     "output_type": "stream",
     "text": [
      "12 <class 'int'>\n",
      "('Naresh', 78.012, False) <class 'tuple'>\n"
     ]
    }
   ],
   "source": [
    "def sp(k,*y):\n",
    "    print(k,type(k))\n",
    "    print(y,type(y))\n",
    "    return\n",
    "\n",
    "sp(12,'Naresh',78.012,False)"
   ]
  },
  {
   "cell_type": "code",
   "execution_count": 14,
   "id": "2bdaf5a4",
   "metadata": {},
   "outputs": [
    {
     "ename": "TypeError",
     "evalue": "sp() takes 0 positional arguments but 4 were given",
     "output_type": "error",
     "traceback": [
      "\u001b[1;31m---------------------------------------------------------------------------\u001b[0m",
      "\u001b[1;31mTypeError\u001b[0m                                 Traceback (most recent call last)",
      "Cell \u001b[1;32mIn[14], line 5\u001b[0m\n\u001b[0;32m      2\u001b[0m     \u001b[38;5;28mprint\u001b[39m(y,\u001b[38;5;28mtype\u001b[39m(y))\n\u001b[0;32m      3\u001b[0m     \u001b[38;5;28;01mreturn\u001b[39;00m\n\u001b[1;32m----> 5\u001b[0m \u001b[43msp\u001b[49m\u001b[43m(\u001b[49m\u001b[38;5;241;43m12\u001b[39;49m\u001b[43m,\u001b[49m\u001b[38;5;124;43m'\u001b[39;49m\u001b[38;5;124;43mNaresh\u001b[39;49m\u001b[38;5;124;43m'\u001b[39;49m\u001b[43m,\u001b[49m\u001b[38;5;241;43m78.012\u001b[39;49m\u001b[43m,\u001b[49m\u001b[38;5;28;43;01mFalse\u001b[39;49;00m\u001b[43m)\u001b[49m\n",
      "\u001b[1;31mTypeError\u001b[0m: sp() takes 0 positional arguments but 4 were given"
     ]
    }
   ],
   "source": [
    "def sp(**y):\n",
    "    print(y,type(y))\n",
    "    return\n",
    "\n",
    "sp(12,'Naresh',78.012,False)"
   ]
  },
  {
   "cell_type": "code",
   "execution_count": 15,
   "id": "63f08d35",
   "metadata": {},
   "outputs": [
    {
     "name": "stdout",
     "output_type": "stream",
     "text": [
      "{'sno': 12, 'name': 'Naresh', 'percentage': 78.012, 'status': False} <class 'dict'>\n"
     ]
    }
   ],
   "source": [
    "def sp(**y):\n",
    "    print(y,type(y))\n",
    "    return\n",
    "\n",
    "sp(sno=12,name='Naresh',percentage=78.012,status=False)"
   ]
  },
  {
   "cell_type": "code",
   "execution_count": 23,
   "id": "7ffb5639",
   "metadata": {},
   "outputs": [
    {
     "name": "stdout",
     "output_type": "stream",
     "text": [
      "12 <class 'int'>\n",
      "{'name': 'Naresh', 'percentage': 78.012, 'status': False} <class 'dict'>\n"
     ]
    }
   ],
   "source": [
    "def sp(z,**y):\n",
    "    print(z,type(z))\n",
    "    print(y,type(y))\n",
    "    return\n",
    "\n",
    "sp(12,name='Naresh',percentage=78.012,status=False)"
   ]
  },
  {
   "cell_type": "code",
   "execution_count": 22,
   "id": "a3c3d3d8",
   "metadata": {},
   "outputs": [
    {
     "name": "stdout",
     "output_type": "stream",
     "text": [
      "12 <class 'int'>\n",
      "(58, 26, 'Suresh') <class 'tuple'>\n",
      "{'name': 'Naresh', 'percentage': 78.012, 'status': False} <class 'dict'>\n"
     ]
    }
   ],
   "source": [
    "def sp(z,*k,**y):\n",
    "    print(z,type(z))\n",
    "    print(k,type(k))\n",
    "    print(y,type(y))\n",
    "    return\n",
    "\n",
    "sp(12,58,26,'Suresh',name='Naresh',percentage=78.012,status=False)"
   ]
  },
  {
   "cell_type": "code",
   "execution_count": 21,
   "id": "8077e8e3",
   "metadata": {},
   "outputs": [
    {
     "ename": "SyntaxError",
     "evalue": "positional argument follows keyword argument (1560727875.py, line 7)",
     "output_type": "error",
     "traceback": [
      "\u001b[1;36m  Cell \u001b[1;32mIn[21], line 7\u001b[1;36m\u001b[0m\n\u001b[1;33m    sp(12,58,gender='male',26,'Suresh',name='Naresh',percentage=78.012,status=False)\u001b[0m\n\u001b[1;37m                                                                                   ^\u001b[0m\n\u001b[1;31mSyntaxError\u001b[0m\u001b[1;31m:\u001b[0m positional argument follows keyword argument\n"
     ]
    }
   ],
   "source": [
    "def sp(z,*k,**y):\n",
    "    print(z,type(z))\n",
    "    print(k,type(k))\n",
    "    print(y,type(y))\n",
    "    return\n",
    "\n",
    "sp(12,58,gender='male',26,'Suresh',name='Naresh',percentage=78.012,status=False)"
   ]
  },
  {
   "cell_type": "code",
   "execution_count": 19,
   "id": "8d90b532",
   "metadata": {},
   "outputs": [
    {
     "ename": "SyntaxError",
     "evalue": "invalid syntax (1462203156.py, line 1)",
     "output_type": "error",
     "traceback": [
      "\u001b[1;36m  Cell \u001b[1;32mIn[19], line 1\u001b[1;36m\u001b[0m\n\u001b[1;33m    def sp(z,*k,**y,p):\u001b[0m\n\u001b[1;37m                    ^\u001b[0m\n\u001b[1;31mSyntaxError\u001b[0m\u001b[1;31m:\u001b[0m invalid syntax\n"
     ]
    }
   ],
   "source": [
    "def sp(z,*k,**y,p):\n",
    "    print(z,type(z))\n",
    "    print(k,type(k))\n",
    "    print(y,type(y))\n",
    "    print(p,type(p))\n",
    "    return\n",
    "\n",
    "sp(12,58,26,'Suresh',name='Naresh',gender='male',percentage=78.012,status=False)"
   ]
  },
  {
   "cell_type": "code",
   "execution_count": 20,
   "id": "fcc23be4",
   "metadata": {},
   "outputs": [
    {
     "ename": "SyntaxError",
     "evalue": "invalid syntax (284492902.py, line 1)",
     "output_type": "error",
     "traceback": [
      "\u001b[1;36m  Cell \u001b[1;32mIn[20], line 1\u001b[1;36m\u001b[0m\n\u001b[1;33m    def sp(z,*k,**y,p='45.012'):\u001b[0m\n\u001b[1;37m                    ^\u001b[0m\n\u001b[1;31mSyntaxError\u001b[0m\u001b[1;31m:\u001b[0m invalid syntax\n"
     ]
    }
   ],
   "source": [
    "def sp(z,*k,**y,p='45.012'):\n",
    "    print(z,type(z))\n",
    "    print(k,type(k))\n",
    "    print(y,type(y))\n",
    "    print(p,type(p))\n",
    "    return\n",
    "\n",
    "sp(12,58,26,'Suresh',name='Naresh',gender='male',percentage=78.012,status=False)"
   ]
  },
  {
   "cell_type": "code",
   "execution_count": 24,
   "id": "e9e133ee",
   "metadata": {},
   "outputs": [
    {
     "name": "stdout",
     "output_type": "stream",
     "text": [
      "12 <class 'int'>\n",
      "(58, 26, 'Suresh') <class 'tuple'>\n",
      "{'name': 'Naresh', 'gender': 'male', 'percentage': 78.012, 'status': False} <class 'dict'>\n",
      "45.012 <class 'str'>\n"
     ]
    }
   ],
   "source": [
    "def sp(z,*k,p='45.012',**y):\n",
    "    print(z,type(z))\n",
    "    print(k,type(k))\n",
    "    print(y,type(y))\n",
    "    print(p,type(p))\n",
    "    return\n",
    "\n",
    "sp(12,58,26,'Suresh',name='Naresh',gender='male',percentage=78.012,status=False)"
   ]
  },
  {
   "cell_type": "code",
   "execution_count": 25,
   "id": "a0eb4666",
   "metadata": {},
   "outputs": [
    {
     "ename": "TypeError",
     "evalue": "sp() missing 1 required keyword-only argument: 'p'",
     "output_type": "error",
     "traceback": [
      "\u001b[1;31m---------------------------------------------------------------------------\u001b[0m",
      "\u001b[1;31mTypeError\u001b[0m                                 Traceback (most recent call last)",
      "Cell \u001b[1;32mIn[25], line 8\u001b[0m\n\u001b[0;32m      5\u001b[0m     \u001b[38;5;28mprint\u001b[39m(p,\u001b[38;5;28mtype\u001b[39m(p))\n\u001b[0;32m      6\u001b[0m     \u001b[38;5;28;01mreturn\u001b[39;00m\n\u001b[1;32m----> 8\u001b[0m \u001b[43msp\u001b[49m\u001b[43m(\u001b[49m\u001b[38;5;241;43m12\u001b[39;49m\u001b[43m,\u001b[49m\u001b[38;5;241;43m58\u001b[39;49m\u001b[43m,\u001b[49m\u001b[38;5;241;43m26\u001b[39;49m\u001b[43m,\u001b[49m\u001b[38;5;124;43m'\u001b[39;49m\u001b[38;5;124;43mSuresh\u001b[39;49m\u001b[38;5;124;43m'\u001b[39;49m\u001b[43m,\u001b[49m\u001b[43mname\u001b[49m\u001b[38;5;241;43m=\u001b[39;49m\u001b[38;5;124;43m'\u001b[39;49m\u001b[38;5;124;43mNaresh\u001b[39;49m\u001b[38;5;124;43m'\u001b[39;49m\u001b[43m,\u001b[49m\u001b[43mgender\u001b[49m\u001b[38;5;241;43m=\u001b[39;49m\u001b[38;5;124;43m'\u001b[39;49m\u001b[38;5;124;43mmale\u001b[39;49m\u001b[38;5;124;43m'\u001b[39;49m\u001b[43m,\u001b[49m\u001b[43mpercentage\u001b[49m\u001b[38;5;241;43m=\u001b[39;49m\u001b[38;5;241;43m78.012\u001b[39;49m\u001b[43m,\u001b[49m\u001b[43mstatus\u001b[49m\u001b[38;5;241;43m=\u001b[39;49m\u001b[38;5;28;43;01mFalse\u001b[39;49;00m\u001b[43m)\u001b[49m\n",
      "\u001b[1;31mTypeError\u001b[0m: sp() missing 1 required keyword-only argument: 'p'"
     ]
    }
   ],
   "source": [
    "def sp(z,*k,p,**y):\n",
    "    print(z,type(z))\n",
    "    print(k,type(k))\n",
    "    print(y,type(y))\n",
    "    print(p,type(p))\n",
    "    return\n",
    "\n",
    "sp(12,58,26,'Suresh',name='Naresh',gender='male',percentage=78.012,status=False)"
   ]
  },
  {
   "cell_type": "code",
   "execution_count": 29,
   "id": "079e3cc9",
   "metadata": {},
   "outputs": [
    {
     "name": "stdout",
     "output_type": "stream",
     "text": [
      "1.Reverse a number\n",
      "2.Digit Count\n",
      "3.Even numbers Sum\n",
      "4.Exit\n",
      "Enter Your Choice: 4\n",
      "Thankyou Visit Again!!!\n"
     ]
    }
   ],
   "source": [
    "while True:\n",
    "    print(\"1.Reverse a number\\n\"\n",
    "    \"2.Digit Count\\n3.Even numbers Sum\\n4.Exit\")\n",
    "    n = int(input(\"Enter Your Choice: \"))\n",
    "    if n==3:\n",
    "        q = int(input(\"Enter a number: \"))\n",
    "        es = 0\n",
    "        while q!=0:\n",
    "            if ((q%10)%2)==0:\n",
    "                es+=q%10\n",
    "            q//=10\n",
    "        print(f\"Even sum is: {es}\")\n",
    "    elif n == 4:\n",
    "        print(\"Thankyou Visit Again!!!\")\n",
    "        break\n",
    "    elif n == 1:\n",
    "        k = int(input(\"Enter a number: \"))\n",
    "        z = 0\n",
    "        while k!=0:\n",
    "            z = z*10+k%10\n",
    "            k//=10\n",
    "        print(f\"Reverse number is: {z}\")\n",
    "    elif n == 2:\n",
    "        m = int(input(\"Enter a number: \"))\n",
    "        c = 0\n",
    "        while m!=0:\n",
    "            m//=10\n",
    "            c+=1\n",
    "        print(f\"Digit Count is: {c}\")\n",
    "    else:\n",
    "        print(\"Entered Valid Option, Try Again!!!\")"
   ]
  },
  {
   "cell_type": "markdown",
   "id": "e01dccb7",
   "metadata": {},
   "source": [
    "## Data Structures:\n",
    "    - To organise the data in order or unorder format\n",
    "    - List\n",
    "    - Tuple\n",
    "    - Set\n",
    "    - Dictionary"
   ]
  },
  {
   "cell_type": "markdown",
   "id": "2f21b1b9",
   "metadata": {},
   "source": [
    "## List\n",
    "    - It can be represented as [] and seperated with , values\n",
    "    - It can changes a value\n",
    "    - It stores data in ordered format\n",
    "    - It allows duplicate values\n",
    "    - Slicing can be done because of index\n",
    "    - It stores all data type values\n",
    "    - It can be typecasted as list()"
   ]
  },
  {
   "cell_type": "code",
   "execution_count": 31,
   "id": "efc209d1",
   "metadata": {},
   "outputs": [
    {
     "name": "stdout",
     "output_type": "stream",
     "text": [
      "[] <class 'list'>\n",
      "[] <class 'list'>\n"
     ]
    }
   ],
   "source": [
    "b = []\n",
    "k = list()\n",
    "print(b,type(b))\n",
    "print(k,type(k))"
   ]
  },
  {
   "cell_type": "code",
   "execution_count": 33,
   "id": "bab1701a",
   "metadata": {},
   "outputs": [
    {
     "name": "stdout",
     "output_type": "stream",
     "text": [
      "[15, 259.0121, 'Kalyan', (6+5j), False, 15, 15, '53'] <class 'list'>\n"
     ]
    }
   ],
   "source": [
    "s = [15,259.0121,'Kalyan',6+5j,False,15,15,'53']\n",
    "print(s,type(s))"
   ]
  },
  {
   "cell_type": "code",
   "execution_count": 34,
   "id": "2863f56f",
   "metadata": {},
   "outputs": [
    {
     "name": "stdout",
     "output_type": "stream",
     "text": [
      "0 <class 'int'>\n",
      "1 <class 'int'>\n",
      "2 <class 'int'>\n",
      "3 <class 'int'>\n",
      "4 <class 'int'>\n",
      "5 <class 'int'>\n",
      "6 <class 'int'>\n",
      "7 <class 'int'>\n"
     ]
    }
   ],
   "source": [
    "for i in range(len(s)):\n",
    "    print(i,type(i))"
   ]
  },
  {
   "cell_type": "code",
   "execution_count": 35,
   "id": "d7e1caa4",
   "metadata": {},
   "outputs": [
    {
     "name": "stdout",
     "output_type": "stream",
     "text": [
      "15 <class 'int'>\n",
      "259.0121 <class 'float'>\n",
      "Kalyan <class 'str'>\n",
      "(6+5j) <class 'complex'>\n",
      "False <class 'bool'>\n",
      "15 <class 'int'>\n",
      "15 <class 'int'>\n",
      "53 <class 'str'>\n"
     ]
    }
   ],
   "source": [
    "for i in range(len(s)):\n",
    "    print(s[i],type(s[i]))"
   ]
  },
  {
   "cell_type": "code",
   "execution_count": 36,
   "id": "de33c371",
   "metadata": {},
   "outputs": [
    {
     "name": "stdout",
     "output_type": "stream",
     "text": [
      "15 <class 'int'>\n",
      "259.0121 <class 'float'>\n",
      "Kalyan <class 'str'>\n",
      "(6+5j) <class 'complex'>\n",
      "False <class 'bool'>\n",
      "15 <class 'int'>\n",
      "15 <class 'int'>\n",
      "53 <class 'str'>\n"
     ]
    }
   ],
   "source": [
    "for j in s:\n",
    "    print(j,type(j))"
   ]
  },
  {
   "cell_type": "code",
   "execution_count": 37,
   "id": "6f4d32e6",
   "metadata": {},
   "outputs": [
    {
     "name": "stdout",
     "output_type": "stream",
     "text": [
      "[34, 56, 7, 8, 9, 12, 'Kalyan', True, 12, 78, 9, 65, (9+5j)] <class 'list'>\n",
      "[34, 56, 7, 8, 9, 12, 'Kalyan', True, 12, 78, 9, 65, (9+5j)]\n",
      "[34, 56, 7, 8, 9, 12, 'Kalyan', True, 12, 78, 9, 65, (9+5j)]\n"
     ]
    }
   ],
   "source": [
    "w = [34,56,7,8,9,12,'Kalyan',True,12,78,9,65,9+5j]\n",
    "print(w,type(w))\n",
    "print(w[:])\n",
    "print(w[::])"
   ]
  },
  {
   "cell_type": "code",
   "execution_count": 38,
   "id": "a7f50ec1",
   "metadata": {},
   "outputs": [
    {
     "name": "stdout",
     "output_type": "stream",
     "text": [
      "[34, 56, 7, 8, 9, 12, 'Kalyan', True, 12, 78, 9, 65, (9+5j)]\n",
      "7\n",
      "9\n"
     ]
    }
   ],
   "source": [
    "print(w)\n",
    "print(w[2])\n",
    "print(w[-3])"
   ]
  },
  {
   "cell_type": "code",
   "execution_count": 49,
   "id": "e5946432",
   "metadata": {},
   "outputs": [
    {
     "name": "stdout",
     "output_type": "stream",
     "text": [
      "[34, 56, 7, 8, 9, 12, 'Kalyan', True, 12, 78, 9, 65, (9+5j)]\n",
      "[8, 9, 12, 'Kalyan', True, 12, 78, 9, 65, (9+5j)]\n",
      "[12, 78, 9, 65, (9+5j)]\n",
      "[34, 56, 7, 8, 9, 12]\n",
      "[34, 56, 7, 8, 9, 12, 'Kalyan', True, 12, 78]\n",
      "[8, 9, 12, 'Kalyan', True, 12]\n",
      "[9, 12, 'Kalyan', True, 12, 78]\n",
      "[12, 'Kalyan']\n",
      "[12, 78, 9]\n"
     ]
    }
   ],
   "source": [
    "print(w)\n",
    "print(w[3:])\n",
    "print(w[-5:])\n",
    "print(w[:6])\n",
    "print(w[:-3])\n",
    "print(w[3:9])\n",
    "print(w[4:-3])\n",
    "print(w[-8:7])\n",
    "print(w[-5:-2])"
   ]
  },
  {
   "cell_type": "code",
   "execution_count": 55,
   "id": "b4e457e8",
   "metadata": {},
   "outputs": [
    {
     "name": "stdout",
     "output_type": "stream",
     "text": [
      "[34, 56, 7, 8, 9, 12, 'Kalyan', True, 12, 78, 9, 65, (9+5j)]\n",
      "[8, 9, 12, 'Kalyan', True, 12, 78, 9, 65, (9+5j)]\n",
      "[78, 9, 65, (9+5j)]\n",
      "[34, 56, 7, 8, 9]\n",
      "[34, 56, 7, 8, 9, 12, 'Kalyan', True, 12]\n",
      "[34, 8, 'Kalyan', 78, (9+5j)]\n",
      "[(9+5j), 9, 12, 'Kalyan', 9, 7, 34]\n"
     ]
    }
   ],
   "source": [
    "print(w)\n",
    "print(w[3::])\n",
    "print(w[-4::])\n",
    "print(w[:5:])\n",
    "print(w[:-4:])\n",
    "print(w[::3])\n",
    "print(w[::-2])"
   ]
  },
  {
   "cell_type": "code",
   "execution_count": 56,
   "id": "14a3e1fb",
   "metadata": {},
   "outputs": [
    {
     "name": "stdout",
     "output_type": "stream",
     "text": [
      "[34, 56, 7, 8, 9, 12, 'Kalyan', True, 12, 78, 9, 65, (9+5j)]\n",
      "[8, 9, 12, 'Kalyan']\n",
      "[12, 'Kalyan', True, 12, 78]\n",
      "[]\n",
      "[]\n",
      "[7, 12]\n",
      "[]\n",
      "[]\n",
      "[]\n",
      "[65, 78, True, 12]\n",
      "[(9+5j), 65, 9, 78, 12, True, 'Kalyan', 12, 9, 8, 7, 56, 34]\n",
      "[34, 7, 9, 'Kalyan', 12, 9, (9+5j)]\n"
     ]
    }
   ],
   "source": [
    "print(w)\n",
    "print(w[3:7:])\n",
    "print(w[5:-3:])\n",
    "print(w[-3:6:])\n",
    "print(w[-4:-7:])\n",
    "print(w[2:7:3])\n",
    "print(w[3:9:-2])\n",
    "print(w[9:-4:2])\n",
    "print(w[9:-3:-1])\n",
    "print(w[-2:-9:-2])\n",
    "print(w[::-1])\n",
    "print(w[::2])"
   ]
  },
  {
   "cell_type": "code",
   "execution_count": 58,
   "id": "b40bc152",
   "metadata": {},
   "outputs": [
    {
     "name": "stdout",
     "output_type": "stream",
     "text": [
      "[34, 56, 7, 8, 9, 12, 'Kalyan', True, 12, 78, 9, 65, (9+5j)]\n",
      "['__add__', '__class__', '__class_getitem__', '__contains__', '__delattr__', '__delitem__', '__dir__', '__doc__', '__eq__', '__format__', '__ge__', '__getattribute__', '__getitem__', '__gt__', '__hash__', '__iadd__', '__imul__', '__init__', '__init_subclass__', '__iter__', '__le__', '__len__', '__lt__', '__mul__', '__ne__', '__new__', '__reduce__', '__reduce_ex__', '__repr__', '__reversed__', '__rmul__', '__setattr__', '__setitem__', '__sizeof__', '__str__', '__subclasshook__', 'append', 'clear', 'copy', 'count', 'extend', 'index', 'insert', 'pop', 'remove', 'reverse', 'sort']\n"
     ]
    }
   ],
   "source": [
    "print(w)\n",
    "print(dir(w))"
   ]
  },
  {
   "cell_type": "code",
   "execution_count": 59,
   "id": "8498f6ec",
   "metadata": {},
   "outputs": [
    {
     "name": "stdout",
     "output_type": "stream",
     "text": [
      "['__add__', '__class__', '__class_getitem__', '__contains__', '__delattr__', '__delitem__', '__dir__', '__doc__', '__eq__', '__format__', '__ge__', '__getattribute__', '__getitem__', '__gt__', '__hash__', '__iadd__', '__imul__', '__init__', '__init_subclass__', '__iter__', '__le__', '__len__', '__lt__', '__mul__', '__ne__', '__new__', '__reduce__', '__reduce_ex__', '__repr__', '__reversed__', '__rmul__', '__setattr__', '__setitem__', '__sizeof__', '__str__', '__subclasshook__', 'append', 'clear', 'copy', 'count', 'extend', 'index', 'insert', 'pop', 'remove', 'reverse', 'sort']\n"
     ]
    }
   ],
   "source": [
    "print(dir(list))"
   ]
  },
  {
   "cell_type": "code",
   "execution_count": 60,
   "id": "3f21890a",
   "metadata": {},
   "outputs": [
    {
     "name": "stdout",
     "output_type": "stream",
     "text": [
      "Append object to the end of the list.\n"
     ]
    }
   ],
   "source": [
    "print(list.append.__doc__)"
   ]
  },
  {
   "cell_type": "code",
   "execution_count": 61,
   "id": "1a4f3e73",
   "metadata": {},
   "outputs": [
    {
     "name": "stdout",
     "output_type": "stream",
     "text": [
      "Help on class list in module builtins:\n",
      "\n",
      "class list(object)\n",
      " |  list(iterable=(), /)\n",
      " |  \n",
      " |  Built-in mutable sequence.\n",
      " |  \n",
      " |  If no argument is given, the constructor creates a new empty list.\n",
      " |  The argument must be an iterable if specified.\n",
      " |  \n",
      " |  Methods defined here:\n",
      " |  \n",
      " |  __add__(self, value, /)\n",
      " |      Return self+value.\n",
      " |  \n",
      " |  __contains__(self, key, /)\n",
      " |      Return key in self.\n",
      " |  \n",
      " |  __delitem__(self, key, /)\n",
      " |      Delete self[key].\n",
      " |  \n",
      " |  __eq__(self, value, /)\n",
      " |      Return self==value.\n",
      " |  \n",
      " |  __ge__(self, value, /)\n",
      " |      Return self>=value.\n",
      " |  \n",
      " |  __getattribute__(self, name, /)\n",
      " |      Return getattr(self, name).\n",
      " |  \n",
      " |  __getitem__(...)\n",
      " |      x.__getitem__(y) <==> x[y]\n",
      " |  \n",
      " |  __gt__(self, value, /)\n",
      " |      Return self>value.\n",
      " |  \n",
      " |  __iadd__(self, value, /)\n",
      " |      Implement self+=value.\n",
      " |  \n",
      " |  __imul__(self, value, /)\n",
      " |      Implement self*=value.\n",
      " |  \n",
      " |  __init__(self, /, *args, **kwargs)\n",
      " |      Initialize self.  See help(type(self)) for accurate signature.\n",
      " |  \n",
      " |  __iter__(self, /)\n",
      " |      Implement iter(self).\n",
      " |  \n",
      " |  __le__(self, value, /)\n",
      " |      Return self<=value.\n",
      " |  \n",
      " |  __len__(self, /)\n",
      " |      Return len(self).\n",
      " |  \n",
      " |  __lt__(self, value, /)\n",
      " |      Return self<value.\n",
      " |  \n",
      " |  __mul__(self, value, /)\n",
      " |      Return self*value.\n",
      " |  \n",
      " |  __ne__(self, value, /)\n",
      " |      Return self!=value.\n",
      " |  \n",
      " |  __repr__(self, /)\n",
      " |      Return repr(self).\n",
      " |  \n",
      " |  __reversed__(self, /)\n",
      " |      Return a reverse iterator over the list.\n",
      " |  \n",
      " |  __rmul__(self, value, /)\n",
      " |      Return value*self.\n",
      " |  \n",
      " |  __setitem__(self, key, value, /)\n",
      " |      Set self[key] to value.\n",
      " |  \n",
      " |  __sizeof__(self, /)\n",
      " |      Return the size of the list in memory, in bytes.\n",
      " |  \n",
      " |  append(self, object, /)\n",
      " |      Append object to the end of the list.\n",
      " |  \n",
      " |  clear(self, /)\n",
      " |      Remove all items from list.\n",
      " |  \n",
      " |  copy(self, /)\n",
      " |      Return a shallow copy of the list.\n",
      " |  \n",
      " |  count(self, value, /)\n",
      " |      Return number of occurrences of value.\n",
      " |  \n",
      " |  extend(self, iterable, /)\n",
      " |      Extend list by appending elements from the iterable.\n",
      " |  \n",
      " |  index(self, value, start=0, stop=9223372036854775807, /)\n",
      " |      Return first index of value.\n",
      " |      \n",
      " |      Raises ValueError if the value is not present.\n",
      " |  \n",
      " |  insert(self, index, object, /)\n",
      " |      Insert object before index.\n",
      " |  \n",
      " |  pop(self, index=-1, /)\n",
      " |      Remove and return item at index (default last).\n",
      " |      \n",
      " |      Raises IndexError if list is empty or index is out of range.\n",
      " |  \n",
      " |  remove(self, value, /)\n",
      " |      Remove first occurrence of value.\n",
      " |      \n",
      " |      Raises ValueError if the value is not present.\n",
      " |  \n",
      " |  reverse(self, /)\n",
      " |      Reverse *IN PLACE*.\n",
      " |  \n",
      " |  sort(self, /, *, key=None, reverse=False)\n",
      " |      Sort the list in ascending order and return None.\n",
      " |      \n",
      " |      The sort is in-place (i.e. the list itself is modified) and stable (i.e. the\n",
      " |      order of two equal elements is maintained).\n",
      " |      \n",
      " |      If a key function is given, apply it once to each list item and sort them,\n",
      " |      ascending or descending, according to their function values.\n",
      " |      \n",
      " |      The reverse flag can be set to sort in descending order.\n",
      " |  \n",
      " |  ----------------------------------------------------------------------\n",
      " |  Class methods defined here:\n",
      " |  \n",
      " |  __class_getitem__(...) from builtins.type\n",
      " |      See PEP 585\n",
      " |  \n",
      " |  ----------------------------------------------------------------------\n",
      " |  Static methods defined here:\n",
      " |  \n",
      " |  __new__(*args, **kwargs) from builtins.type\n",
      " |      Create and return a new object.  See help(type) for accurate signature.\n",
      " |  \n",
      " |  ----------------------------------------------------------------------\n",
      " |  Data and other attributes defined here:\n",
      " |  \n",
      " |  __hash__ = None\n",
      "\n"
     ]
    }
   ],
   "source": [
    "help(list)"
   ]
  },
  {
   "cell_type": "code",
   "execution_count": 62,
   "id": "d4e85b13",
   "metadata": {},
   "outputs": [
    {
     "name": "stdout",
     "output_type": "stream",
     "text": [
      "Help on method_descriptor:\n",
      "\n",
      "append(self, object, /)\n",
      "    Append object to the end of the list.\n",
      "\n"
     ]
    }
   ],
   "source": [
    "help(list.append)"
   ]
  },
  {
   "cell_type": "code",
   "execution_count": 63,
   "id": "db17fc28",
   "metadata": {},
   "outputs": [
    {
     "name": "stdout",
     "output_type": "stream",
     "text": [
      "[] <class 'list'>\n"
     ]
    }
   ],
   "source": [
    "z = []\n",
    "print(z,type(z))"
   ]
  },
  {
   "cell_type": "code",
   "execution_count": 64,
   "id": "a49a3e08",
   "metadata": {},
   "outputs": [
    {
     "name": "stdout",
     "output_type": "stream",
     "text": [
      "[]\n",
      "[489]\n"
     ]
    }
   ],
   "source": [
    "print(z)\n",
    "z.append(489)\n",
    "print(z)"
   ]
  },
  {
   "cell_type": "code",
   "execution_count": 65,
   "id": "46fafd4d",
   "metadata": {},
   "outputs": [
    {
     "name": "stdout",
     "output_type": "stream",
     "text": [
      "[489]\n"
     ]
    },
    {
     "ename": "TypeError",
     "evalue": "list.append() takes exactly one argument (2 given)",
     "output_type": "error",
     "traceback": [
      "\u001b[1;31m---------------------------------------------------------------------------\u001b[0m",
      "\u001b[1;31mTypeError\u001b[0m                                 Traceback (most recent call last)",
      "Cell \u001b[1;32mIn[65], line 2\u001b[0m\n\u001b[0;32m      1\u001b[0m \u001b[38;5;28mprint\u001b[39m(z)\n\u001b[1;32m----> 2\u001b[0m \u001b[43mz\u001b[49m\u001b[38;5;241;43m.\u001b[39;49m\u001b[43mappend\u001b[49m\u001b[43m(\u001b[49m\u001b[38;5;241;43m12\u001b[39;49m\u001b[43m,\u001b[49m\u001b[38;5;241;43m56\u001b[39;49m\u001b[43m)\u001b[49m\n\u001b[0;32m      3\u001b[0m \u001b[38;5;28mprint\u001b[39m(z)\n",
      "\u001b[1;31mTypeError\u001b[0m: list.append() takes exactly one argument (2 given)"
     ]
    }
   ],
   "source": [
    "print(z)\n",
    "z.append(12,56)\n",
    "print(z)"
   ]
  },
  {
   "cell_type": "code",
   "execution_count": 66,
   "id": "f3d4c3fd",
   "metadata": {},
   "outputs": [
    {
     "name": "stdout",
     "output_type": "stream",
     "text": [
      "[489]\n",
      "[489, [12, 78, 68]]\n"
     ]
    }
   ],
   "source": [
    "print(z)\n",
    "z.append([12,78,68])\n",
    "print(z)"
   ]
  },
  {
   "cell_type": "code",
   "execution_count": 67,
   "id": "9a1998cd",
   "metadata": {},
   "outputs": [
    {
     "name": "stdout",
     "output_type": "stream",
     "text": [
      "[489, [12, 78, 68]]\n",
      "[489, [12, 78, 68], (12, 89, 6, 5)]\n"
     ]
    }
   ],
   "source": [
    "print(z)\n",
    "z.append((12,89,6,5))\n",
    "print(z)"
   ]
  },
  {
   "cell_type": "code",
   "execution_count": 68,
   "id": "51826973",
   "metadata": {},
   "outputs": [
    {
     "name": "stdout",
     "output_type": "stream",
     "text": [
      "[489, [12, 78, 68], (12, 89, 6, 5)]\n",
      "[489, [12, 78, 68], (12, 89, 6, 5), {8, 34, 6, 7}]\n"
     ]
    }
   ],
   "source": [
    "print(z)\n",
    "z.append({34,6,7,8})\n",
    "print(z)"
   ]
  },
  {
   "cell_type": "code",
   "execution_count": 69,
   "id": "6992baf5",
   "metadata": {},
   "outputs": [
    {
     "name": "stdout",
     "output_type": "stream",
     "text": [
      "[] <class 'list'>\n"
     ]
    }
   ],
   "source": [
    "p = []\n",
    "print(p,type(p))"
   ]
  },
  {
   "cell_type": "code",
   "execution_count": 70,
   "id": "b884af74",
   "metadata": {},
   "outputs": [
    {
     "name": "stdout",
     "output_type": "stream",
     "text": [
      "[] <class 'list'>\n"
     ]
    }
   ],
   "source": [
    "h = []\n",
    "print(h,type(h))"
   ]
  },
  {
   "cell_type": "code",
   "execution_count": 71,
   "id": "13e09748",
   "metadata": {},
   "outputs": [
    {
     "name": "stdout",
     "output_type": "stream",
     "text": [
      "[]\n"
     ]
    },
    {
     "ename": "TypeError",
     "evalue": "'int' object is not iterable",
     "output_type": "error",
     "traceback": [
      "\u001b[1;31m---------------------------------------------------------------------------\u001b[0m",
      "\u001b[1;31mTypeError\u001b[0m                                 Traceback (most recent call last)",
      "Cell \u001b[1;32mIn[71], line 2\u001b[0m\n\u001b[0;32m      1\u001b[0m \u001b[38;5;28mprint\u001b[39m(h)\n\u001b[1;32m----> 2\u001b[0m \u001b[43mh\u001b[49m\u001b[38;5;241;43m.\u001b[39;49m\u001b[43mextend\u001b[49m\u001b[43m(\u001b[49m\u001b[38;5;241;43m45\u001b[39;49m\u001b[43m)\u001b[49m\n\u001b[0;32m      3\u001b[0m \u001b[38;5;28mprint\u001b[39m(h)\n",
      "\u001b[1;31mTypeError\u001b[0m: 'int' object is not iterable"
     ]
    }
   ],
   "source": [
    "print(h)\n",
    "h.extend(45)\n",
    "print(h)"
   ]
  },
  {
   "cell_type": "code",
   "execution_count": 72,
   "id": "8089fd4d",
   "metadata": {},
   "outputs": [
    {
     "name": "stdout",
     "output_type": "stream",
     "text": [
      "[]\n"
     ]
    },
    {
     "ename": "TypeError",
     "evalue": "list.extend() takes exactly one argument (2 given)",
     "output_type": "error",
     "traceback": [
      "\u001b[1;31m---------------------------------------------------------------------------\u001b[0m",
      "\u001b[1;31mTypeError\u001b[0m                                 Traceback (most recent call last)",
      "Cell \u001b[1;32mIn[72], line 2\u001b[0m\n\u001b[0;32m      1\u001b[0m \u001b[38;5;28mprint\u001b[39m(h)\n\u001b[1;32m----> 2\u001b[0m \u001b[43mh\u001b[49m\u001b[38;5;241;43m.\u001b[39;49m\u001b[43mextend\u001b[49m\u001b[43m(\u001b[49m\u001b[38;5;241;43m12\u001b[39;49m\u001b[43m,\u001b[49m\u001b[38;5;241;43m89\u001b[39;49m\u001b[43m)\u001b[49m\n\u001b[0;32m      3\u001b[0m \u001b[38;5;28mprint\u001b[39m(h)\n",
      "\u001b[1;31mTypeError\u001b[0m: list.extend() takes exactly one argument (2 given)"
     ]
    }
   ],
   "source": [
    "print(h)\n",
    "h.extend(12,89)\n",
    "print(h)"
   ]
  },
  {
   "cell_type": "code",
   "execution_count": 73,
   "id": "ba406b62",
   "metadata": {},
   "outputs": [
    {
     "name": "stdout",
     "output_type": "stream",
     "text": [
      "[]\n",
      "[45, 89, 'Prasad']\n"
     ]
    }
   ],
   "source": [
    "print(h)\n",
    "h.extend([45,89,'Prasad'])\n",
    "print(h)"
   ]
  },
  {
   "cell_type": "code",
   "execution_count": 74,
   "id": "225a5fa9",
   "metadata": {},
   "outputs": [
    {
     "name": "stdout",
     "output_type": "stream",
     "text": [
      "[45, 89, 'Prasad']\n",
      "[45, 89, 'Prasad', 45, 8, 3, 6]\n"
     ]
    }
   ],
   "source": [
    "print(h)\n",
    "h.extend((45,8,3,6))\n",
    "print(h)"
   ]
  },
  {
   "cell_type": "code",
   "execution_count": 75,
   "id": "1710a882",
   "metadata": {},
   "outputs": [
    {
     "name": "stdout",
     "output_type": "stream",
     "text": [
      "[45, 89, 'Prasad', 45, 8, 3, 6]\n",
      "[45, 89, 'Prasad', 45, 8, 3, 6, 8, 9, 45, 7]\n"
     ]
    }
   ],
   "source": [
    "print(h)\n",
    "h.extend({7,8,7,9,45})\n",
    "print(h)"
   ]
  },
  {
   "cell_type": "code",
   "execution_count": 76,
   "id": "d8797815",
   "metadata": {},
   "outputs": [
    {
     "name": "stdout",
     "output_type": "stream",
     "text": [
      "[45, 89, 'Prasad', 45, 8, 3, 6, 8, 9, 45, 7]\n",
      "[45, 89, 'Prasad', 45, 8, 3, 6, 8, 9, 45, 7, 'R', 'a', 'm', 'e', 's', 'h']\n"
     ]
    }
   ],
   "source": [
    "print(h)\n",
    "h.extend('Ramesh')\n",
    "print(h)"
   ]
  },
  {
   "cell_type": "code",
   "execution_count": 77,
   "id": "9e6f91fb",
   "metadata": {},
   "outputs": [
    {
     "name": "stdout",
     "output_type": "stream",
     "text": [
      "[56]\n",
      "[45, 56]\n"
     ]
    }
   ],
   "source": [
    "z = [56]\n",
    "print(z)\n",
    "z.insert(0,45)\n",
    "print(z)"
   ]
  },
  {
   "cell_type": "code",
   "execution_count": 78,
   "id": "18d4334b",
   "metadata": {},
   "outputs": [
    {
     "name": "stdout",
     "output_type": "stream",
     "text": [
      "[45, 56]\n",
      "[45, [6, 7, 8], 56]\n"
     ]
    }
   ],
   "source": [
    "print(z)\n",
    "z.insert(1,[6,7,8])\n",
    "print(z)"
   ]
  },
  {
   "cell_type": "code",
   "execution_count": 79,
   "id": "e8b42ba7",
   "metadata": {},
   "outputs": [
    {
     "name": "stdout",
     "output_type": "stream",
     "text": [
      "[45, [6, 7, 8], 56]\n",
      "[45, [6, 7, 8], 56, 78]\n"
     ]
    }
   ],
   "source": [
    "print(z)\n",
    "z.insert(20,78)\n",
    "print(z)"
   ]
  },
  {
   "cell_type": "code",
   "execution_count": 80,
   "id": "bbe92c8c",
   "metadata": {},
   "outputs": [
    {
     "name": "stdout",
     "output_type": "stream",
     "text": [
      "[3, 5, 6, 73, 3, 23, 5]\n",
      "2\n",
      "0\n"
     ]
    }
   ],
   "source": [
    "w = [3,5,6,73,3,23,5]\n",
    "print(w)\n",
    "print(w.count(3))\n",
    "print(w.count(-500))"
   ]
  },
  {
   "cell_type": "code",
   "execution_count": 81,
   "id": "e2719716",
   "metadata": {},
   "outputs": [
    {
     "name": "stdout",
     "output_type": "stream",
     "text": [
      "[45, 78] 2558905881280\n",
      "[45, 78] 2558907288704\n"
     ]
    }
   ],
   "source": [
    "q = [45,78]\n",
    "x = q.copy()\n",
    "print(q,id(q))\n",
    "print(x,id(x))"
   ]
  },
  {
   "cell_type": "code",
   "execution_count": 82,
   "id": "ca715488",
   "metadata": {},
   "outputs": [
    {
     "name": "stdout",
     "output_type": "stream",
     "text": [
      "[45, 78, 'Lavanya']\n",
      "[45, 78]\n"
     ]
    }
   ],
   "source": [
    "q.append('Lavanya')\n",
    "print(q)\n",
    "print(x)"
   ]
  },
  {
   "cell_type": "code",
   "execution_count": 84,
   "id": "72b0cf7f",
   "metadata": {},
   "outputs": [
    {
     "name": "stdout",
     "output_type": "stream",
     "text": [
      "[45, 6, 78, 12, 3]\n",
      "1\n"
     ]
    }
   ],
   "source": [
    "r = [45,6,78,12,3]\n",
    "print(r)\n",
    "print(r.index(6))"
   ]
  },
  {
   "cell_type": "code",
   "execution_count": 85,
   "id": "3dbc05d8",
   "metadata": {},
   "outputs": [
    {
     "ename": "ValueError",
     "evalue": "-10 is not in list",
     "output_type": "error",
     "traceback": [
      "\u001b[1;31m---------------------------------------------------------------------------\u001b[0m",
      "\u001b[1;31mValueError\u001b[0m                                Traceback (most recent call last)",
      "Cell \u001b[1;32mIn[85], line 1\u001b[0m\n\u001b[1;32m----> 1\u001b[0m \u001b[38;5;28mprint\u001b[39m(\u001b[43mr\u001b[49m\u001b[38;5;241;43m.\u001b[39;49m\u001b[43mindex\u001b[49m\u001b[43m(\u001b[49m\u001b[38;5;241;43m-\u001b[39;49m\u001b[38;5;241;43m10\u001b[39;49m\u001b[43m)\u001b[49m)\n",
      "\u001b[1;31mValueError\u001b[0m: -10 is not in list"
     ]
    }
   ],
   "source": [
    "print(r.index(-10))"
   ]
  },
  {
   "cell_type": "code",
   "execution_count": 86,
   "id": "a0d9ab0a",
   "metadata": {},
   "outputs": [
    {
     "name": "stdout",
     "output_type": "stream",
     "text": [
      "[5, 89, 3, 56, 900]\n"
     ]
    }
   ],
   "source": [
    "g = [5,89,3,56,900]\n",
    "print(g)"
   ]
  },
  {
   "cell_type": "code",
   "execution_count": 87,
   "id": "4449a54a",
   "metadata": {},
   "outputs": [
    {
     "name": "stdout",
     "output_type": "stream",
     "text": [
      "[5, 89, 3, 56, 900]\n",
      "[5, 89, 3, 56]\n"
     ]
    }
   ],
   "source": [
    "print(g)\n",
    "g.pop()\n",
    "print(g)"
   ]
  },
  {
   "cell_type": "code",
   "execution_count": 88,
   "id": "1cf6cf1b",
   "metadata": {},
   "outputs": [
    {
     "name": "stdout",
     "output_type": "stream",
     "text": [
      "[5, 89, 3, 56]\n",
      "[5, 89, 3]\n"
     ]
    }
   ],
   "source": [
    "print(g)\n",
    "g.pop(3)\n",
    "print(g)"
   ]
  },
  {
   "cell_type": "code",
   "execution_count": 89,
   "id": "7e5d3d2d",
   "metadata": {},
   "outputs": [
    {
     "name": "stdout",
     "output_type": "stream",
     "text": [
      "[5, 89, 3]\n"
     ]
    },
    {
     "ename": "ValueError",
     "evalue": "list.remove(x): x not in list",
     "output_type": "error",
     "traceback": [
      "\u001b[1;31m---------------------------------------------------------------------------\u001b[0m",
      "\u001b[1;31mValueError\u001b[0m                                Traceback (most recent call last)",
      "Cell \u001b[1;32mIn[89], line 2\u001b[0m\n\u001b[0;32m      1\u001b[0m \u001b[38;5;28mprint\u001b[39m(g)\n\u001b[1;32m----> 2\u001b[0m \u001b[43mg\u001b[49m\u001b[38;5;241;43m.\u001b[39;49m\u001b[43mremove\u001b[49m\u001b[43m(\u001b[49m\u001b[38;5;241;43m-\u001b[39;49m\u001b[38;5;241;43m500\u001b[39;49m\u001b[43m)\u001b[49m\n\u001b[0;32m      3\u001b[0m \u001b[38;5;28mprint\u001b[39m(g)\n",
      "\u001b[1;31mValueError\u001b[0m: list.remove(x): x not in list"
     ]
    }
   ],
   "source": [
    "print(g)\n",
    "g.remove(-500)\n",
    "print(g)"
   ]
  },
  {
   "cell_type": "code",
   "execution_count": 90,
   "id": "0ad0083f",
   "metadata": {},
   "outputs": [
    {
     "name": "stdout",
     "output_type": "stream",
     "text": [
      "[5, 89, 3]\n",
      "[5, 3]\n"
     ]
    }
   ],
   "source": [
    "print(g)\n",
    "g.remove(89)\n",
    "print(g)"
   ]
  },
  {
   "cell_type": "code",
   "execution_count": 91,
   "id": "eb12b933",
   "metadata": {},
   "outputs": [
    {
     "name": "stdout",
     "output_type": "stream",
     "text": [
      "[5, 3]\n",
      "[]\n"
     ]
    }
   ],
   "source": [
    "print(g)\n",
    "g.clear()\n",
    "print(g)"
   ]
  },
  {
   "cell_type": "code",
   "execution_count": 92,
   "id": "a1f57a9d",
   "metadata": {},
   "outputs": [
    {
     "name": "stdout",
     "output_type": "stream",
     "text": [
      "[90, 78, 5]\n"
     ]
    }
   ],
   "source": [
    "v = [90,78,5]\n",
    "print(v)"
   ]
  },
  {
   "cell_type": "code",
   "execution_count": 93,
   "id": "6dce6f65",
   "metadata": {},
   "outputs": [
    {
     "name": "stdout",
     "output_type": "stream",
     "text": [
      "[90, 78, 5]\n"
     ]
    },
    {
     "ename": "NameError",
     "evalue": "name 'v' is not defined",
     "output_type": "error",
     "traceback": [
      "\u001b[1;31m---------------------------------------------------------------------------\u001b[0m",
      "\u001b[1;31mNameError\u001b[0m                                 Traceback (most recent call last)",
      "Cell \u001b[1;32mIn[93], line 3\u001b[0m\n\u001b[0;32m      1\u001b[0m \u001b[38;5;28mprint\u001b[39m(v)\n\u001b[0;32m      2\u001b[0m \u001b[38;5;28;01mdel\u001b[39;00m v\n\u001b[1;32m----> 3\u001b[0m \u001b[38;5;28mprint\u001b[39m(\u001b[43mv\u001b[49m)\n",
      "\u001b[1;31mNameError\u001b[0m: name 'v' is not defined"
     ]
    }
   ],
   "source": [
    "print(v)\n",
    "del v\n",
    "print(v)"
   ]
  },
  {
   "cell_type": "code",
   "execution_count": 94,
   "id": "696f1fb3",
   "metadata": {},
   "outputs": [
    {
     "name": "stdout",
     "output_type": "stream",
     "text": [
      "[120, 5, 96, 89, 2, 3]\n",
      "[2, 3, 5, 89, 96, 120]\n"
     ]
    }
   ],
   "source": [
    "b = [120,5,96,89,2,3]\n",
    "print(b)\n",
    "b.sort()\n",
    "print(b)"
   ]
  },
  {
   "cell_type": "code",
   "execution_count": 95,
   "id": "75651d78",
   "metadata": {},
   "outputs": [
    {
     "name": "stdout",
     "output_type": "stream",
     "text": [
      "[520, 56, 2, 89, 1, 36]\n",
      "[520, 89, 56, 36, 2, 1]\n"
     ]
    }
   ],
   "source": [
    "w = [520,56,2,89,1,36]\n",
    "print(w)\n",
    "w.sort(reverse=True)\n",
    "print(w)"
   ]
  },
  {
   "cell_type": "code",
   "execution_count": 96,
   "id": "7ab44428",
   "metadata": {},
   "outputs": [
    {
     "name": "stdout",
     "output_type": "stream",
     "text": [
      "[56, 78, 3, 56, 678, 3]\n",
      "[3, 678, 56, 3, 78, 56]\n"
     ]
    }
   ],
   "source": [
    "k = [56,78,3,56,678,3]\n",
    "print(k)\n",
    "k.reverse()\n",
    "print(k)"
   ]
  },
  {
   "cell_type": "markdown",
   "id": "da45f5b6",
   "metadata": {},
   "source": [
    "```\n",
    "    Task:\n",
    "    \n",
    "    Input:\n",
    "        5\n",
    "        3\n",
    "        6\n",
    "        7\n",
    "        23\n",
    "        5\n",
    "    Output:\n",
    "        Entered numbers are: 3 6 7 23 5\n",
    "        Sorted Numbers are: 3 5 6 7 23\n",
    "        Reverse are: 5 23 7 6 3\n",
    "```"
   ]
  },
  {
   "cell_type": "code",
   "execution_count": 104,
   "id": "2e9e9add",
   "metadata": {},
   "outputs": [
    {
     "name": "stdout",
     "output_type": "stream",
     "text": [
      "5\n",
      "15\n",
      "2\n",
      "59\n",
      "4\n",
      "56\n",
      "Entered numbers are: 15 2 59 4 56 \n",
      "Sorted numbers are: 2 4 15 56 59 \n",
      "Reverse numbers are: 59 56 15 4 2 "
     ]
    }
   ],
   "source": [
    "a=[]\n",
    "n=int(input())\n",
    "for i in range(n):\n",
    "    y=int(input())\n",
    "    a.append(y)\n",
    "print(\"Entered numbers are: \",end=\"\")\n",
    "for j in range(n):\n",
    "    print(a[j],end=\" \")\n",
    "a.sort()\n",
    "print(\"\\nSorted numbers are: \",end=\"\")\n",
    "for j in range(n):\n",
    "    print(a[j],end=\" \")\n",
    "a.reverse()\n",
    "print(\"\\nReverse numbers are: \",end=\"\")\n",
    "for j in range(n):\n",
    "    print(a[j],end=\" \")"
   ]
  },
  {
   "cell_type": "markdown",
   "id": "22cbe50d",
   "metadata": {},
   "source": [
    "## Tuple:\n",
    "    - It can be represented as () and seperated with , values\n",
    "    - It stores data in ordered format\n",
    "    - It allows all data type values\n",
    "    - It allows duplicate values\n",
    "    - It can be type casted as tuple()\n",
    "    - Slicing can be done because of index\n",
    "    - It can't changes a value"
   ]
  },
  {
   "cell_type": "code",
   "execution_count": 105,
   "id": "500ac60c",
   "metadata": {},
   "outputs": [
    {
     "name": "stdout",
     "output_type": "stream",
     "text": [
      "() <class 'tuple'>\n",
      "() <class 'tuple'>\n"
     ]
    }
   ],
   "source": [
    "d = ()\n",
    "t = tuple()\n",
    "print(d,type(d))\n",
    "print(t,type(t))"
   ]
  },
  {
   "cell_type": "code",
   "execution_count": 106,
   "id": "0fe976bd",
   "metadata": {},
   "outputs": [
    {
     "name": "stdout",
     "output_type": "stream",
     "text": [
      "(4, 90.45, 'Lalitha', (56+6j), False, 5, 5, 5, '45.015') <class 'tuple'>\n"
     ]
    }
   ],
   "source": [
    "q = (4,90.45,'Lalitha',56+6j,False,5,5,5,'45.015')\n",
    "print(q,type(q))"
   ]
  },
  {
   "cell_type": "code",
   "execution_count": 107,
   "id": "a940245f",
   "metadata": {},
   "outputs": [
    {
     "name": "stdout",
     "output_type": "stream",
     "text": [
      "0 <class 'int'>\n",
      "1 <class 'int'>\n",
      "2 <class 'int'>\n",
      "3 <class 'int'>\n",
      "4 <class 'int'>\n",
      "5 <class 'int'>\n",
      "6 <class 'int'>\n",
      "7 <class 'int'>\n",
      "8 <class 'int'>\n"
     ]
    }
   ],
   "source": [
    "for j in range(len(q)):\n",
    "    print(j,type(j))"
   ]
  },
  {
   "cell_type": "code",
   "execution_count": 108,
   "id": "a6d29005",
   "metadata": {},
   "outputs": [
    {
     "name": "stdout",
     "output_type": "stream",
     "text": [
      "4 <class 'int'>\n",
      "90.45 <class 'float'>\n",
      "Lalitha <class 'str'>\n",
      "(56+6j) <class 'complex'>\n",
      "False <class 'bool'>\n",
      "5 <class 'int'>\n",
      "5 <class 'int'>\n",
      "5 <class 'int'>\n",
      "45.015 <class 'str'>\n"
     ]
    }
   ],
   "source": [
    "for i in range(len(q)):\n",
    "    print(q[i],type(q[i]))"
   ]
  },
  {
   "cell_type": "code",
   "execution_count": 109,
   "id": "c2ca0d47",
   "metadata": {},
   "outputs": [
    {
     "name": "stdout",
     "output_type": "stream",
     "text": [
      "4 <class 'int'>\n",
      "90.45 <class 'float'>\n",
      "Lalitha <class 'str'>\n",
      "(56+6j) <class 'complex'>\n",
      "False <class 'bool'>\n",
      "5 <class 'int'>\n",
      "5 <class 'int'>\n",
      "5 <class 'int'>\n",
      "45.015 <class 'str'>\n"
     ]
    }
   ],
   "source": [
    "for i in q:\n",
    "    print(i,type(i))"
   ]
  },
  {
   "cell_type": "code",
   "execution_count": 110,
   "id": "664623da",
   "metadata": {},
   "outputs": [
    {
     "name": "stdout",
     "output_type": "stream",
     "text": [
      "['__add__', '__class__', '__class_getitem__', '__contains__', '__delattr__', '__dir__', '__doc__', '__eq__', '__format__', '__ge__', '__getattribute__', '__getitem__', '__getnewargs__', '__gt__', '__hash__', '__init__', '__init_subclass__', '__iter__', '__le__', '__len__', '__lt__', '__mul__', '__ne__', '__new__', '__reduce__', '__reduce_ex__', '__repr__', '__rmul__', '__setattr__', '__sizeof__', '__str__', '__subclasshook__', 'count', 'index']\n"
     ]
    }
   ],
   "source": [
    "print(dir(tuple))"
   ]
  },
  {
   "cell_type": "code",
   "execution_count": 111,
   "id": "7cb184a7",
   "metadata": {},
   "outputs": [
    {
     "name": "stdout",
     "output_type": "stream",
     "text": [
      "(4, 65, 34, 7, 4)\n",
      "2\n",
      "0\n"
     ]
    }
   ],
   "source": [
    "y = (4,65,34,7,4)\n",
    "print(y)\n",
    "print(y.count(4))\n",
    "print(y.count(-6))"
   ]
  },
  {
   "cell_type": "code",
   "execution_count": 112,
   "id": "3b65e5b9",
   "metadata": {},
   "outputs": [
    {
     "name": "stdout",
     "output_type": "stream",
     "text": [
      "(4, 65, 34, 7, 4)\n",
      "2\n"
     ]
    }
   ],
   "source": [
    "print(y)\n",
    "print(y.index(34))"
   ]
  },
  {
   "cell_type": "code",
   "execution_count": 113,
   "id": "5c5e126d",
   "metadata": {},
   "outputs": [
    {
     "ename": "ValueError",
     "evalue": "tuple.index(x): x not in tuple",
     "output_type": "error",
     "traceback": [
      "\u001b[1;31m---------------------------------------------------------------------------\u001b[0m",
      "\u001b[1;31mValueError\u001b[0m                                Traceback (most recent call last)",
      "Cell \u001b[1;32mIn[113], line 1\u001b[0m\n\u001b[1;32m----> 1\u001b[0m \u001b[38;5;28mprint\u001b[39m(\u001b[43my\u001b[49m\u001b[38;5;241;43m.\u001b[39;49m\u001b[43mindex\u001b[49m\u001b[43m(\u001b[49m\u001b[38;5;241;43m-\u001b[39;49m\u001b[38;5;241;43m200\u001b[39;49m\u001b[43m)\u001b[49m)\n",
      "\u001b[1;31mValueError\u001b[0m: tuple.index(x): x not in tuple"
     ]
    }
   ],
   "source": [
    "print(y.index(-200))"
   ]
  },
  {
   "cell_type": "code",
   "execution_count": 116,
   "id": "02c54690",
   "metadata": {},
   "outputs": [
    {
     "name": "stdout",
     "output_type": "stream",
     "text": [
      "(4, 65, 34, 7, 4)\n",
      "7\n",
      "(34, 7, 4)\n",
      "(4, 7, 34, 65, 4)\n"
     ]
    }
   ],
   "source": [
    "print(y)\n",
    "print(y[3])\n",
    "print(y[2:5])\n",
    "print(y[::-1])"
   ]
  },
  {
   "cell_type": "code",
   "execution_count": null,
   "id": "da2fa1dd",
   "metadata": {},
   "outputs": [],
   "source": []
  }
 ],
 "metadata": {
  "kernelspec": {
   "display_name": "Python 3 (ipykernel)",
   "language": "python",
   "name": "python3"
  },
  "language_info": {
   "codemirror_mode": {
    "name": "ipython",
    "version": 3
   },
   "file_extension": ".py",
   "mimetype": "text/x-python",
   "name": "python",
   "nbconvert_exporter": "python",
   "pygments_lexer": "ipython3",
   "version": "3.9.13"
  }
 },
 "nbformat": 4,
 "nbformat_minor": 5
}
