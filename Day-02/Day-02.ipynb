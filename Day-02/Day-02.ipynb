{
 "cells": [
  {
   "cell_type": "markdown",
   "id": "74a1d7d3",
   "metadata": {},
   "source": [
    "# Headings:"
   ]
  },
  {
   "cell_type": "markdown",
   "id": "3bb7f023",
   "metadata": {},
   "source": [
    "## Sample Example for Heading\n",
    "####### Sample for 7 Hashes"
   ]
  },
  {
   "cell_type": "markdown",
   "id": "4b4a785c",
   "metadata": {},
   "source": [
    "# Styling Text\n",
    "\n",
    "**This is example for bold**\n",
    "\n",
    "__This is another example for bold__\n",
    "\n",
    "*This is an example for italic*\n",
    "\n",
    "_This is another example for italic_\n",
    "\n",
    "~~This is an example for strikethough~~\n",
    "\n",
    "**This is an example for all _bold_ and italic**\n",
    "\n",
    "***Example for all bold and italic***\n"
   ]
  },
  {
   "cell_type": "markdown",
   "id": "cb4c3a29",
   "metadata": {},
   "source": [
    "# Quoting Text\n",
    "\n",
    "> Example for quoting text"
   ]
  },
  {
   "cell_type": "markdown",
   "id": "2dba4a34",
   "metadata": {},
   "source": [
    "# Quoting Code\n",
    "\n",
    "`Example-1 Example-2`\n",
    "\n",
    "``Example-1`` ``Example-2``\n",
    "\n",
    "```\n",
    "    def addtn(a,n):\n",
    "        return a+n\n",
    "```\n",
    "\n",
    "```\n",
    "Example-1\n",
    "Example-2\n",
    "Example-3\n",
    "```\n"
   ]
  },
  {
   "cell_type": "markdown",
   "id": "18da1d5a",
   "metadata": {},
   "source": [
    "# Links\n",
    "\n",
    "Hi Refer to this page [Click](https://www.kec.ac.in/)"
   ]
  },
  {
   "cell_type": "markdown",
   "id": "3a5f652b",
   "metadata": {},
   "source": [
    "# Relative Link\n",
    "\n",
    "Sample py file [View](sample.py)\n",
    "Image view by relative Link [View](python.jpeg)"
   ]
  },
  {
   "cell_type": "markdown",
   "id": "3c046df5",
   "metadata": {},
   "source": [
    "# Image\n",
    "\n",
    "Image view\n",
    "\n",
    "![View](python.jpeg)\n",
    "\n",
    "By using Internet\n",
    "\n",
    "![Click](https://encrypted-tbn0.gstatic.com/images?q=tbn:ANd9GcSLLwcxFfb3KeZgNTjPCiXUNJEVakCjFYj_tgJV8DhZmw&s)"
   ]
  },
  {
   "cell_type": "markdown",
   "id": "ec75dc50",
   "metadata": {},
   "source": [
    "## Variable Assignments:\n",
    "    - single variable = single value\n",
    "    - n number of variables = n number of values\n",
    "    - n number of variables = single value "
   ]
  },
  {
   "cell_type": "code",
   "execution_count": 1,
   "id": "3bb5082f",
   "metadata": {},
   "outputs": [
    {
     "data": {
      "text/plain": [
       "(45, 89.0212)"
      ]
     },
     "execution_count": 1,
     "metadata": {},
     "output_type": "execute_result"
    }
   ],
   "source": [
    "d,k = 45,89.0212\n",
    "d,k"
   ]
  },
  {
   "cell_type": "code",
   "execution_count": 3,
   "id": "e1fba933",
   "metadata": {},
   "outputs": [
    {
     "ename": "ValueError",
     "evalue": "too many values to unpack (expected 3)",
     "output_type": "error",
     "traceback": [
      "\u001b[1;31m---------------------------------------------------------------------------\u001b[0m",
      "\u001b[1;31mValueError\u001b[0m                                Traceback (most recent call last)",
      "Cell \u001b[1;32mIn[3], line 1\u001b[0m\n\u001b[1;32m----> 1\u001b[0m q,p,y \u001b[38;5;241m=\u001b[39m \u001b[38;5;241m4\u001b[39m,\u001b[38;5;241m89.01545\u001b[39m,\u001b[38;5;124m'\u001b[39m\u001b[38;5;124m56\u001b[39m\u001b[38;5;124m'\u001b[39m,\u001b[38;5;124m'\u001b[39m\u001b[38;5;124mkavitha\u001b[39m\u001b[38;5;124m'\u001b[39m\n\u001b[0;32m      2\u001b[0m q,p,y\n",
      "\u001b[1;31mValueError\u001b[0m: too many values to unpack (expected 3)"
     ]
    }
   ],
   "source": [
    "q,p,y = 4,89.01545,'56','kavitha'\n",
    "q,p,y"
   ]
  },
  {
   "cell_type": "code",
   "execution_count": 4,
   "id": "0e44b206",
   "metadata": {},
   "outputs": [
    {
     "ename": "ValueError",
     "evalue": "not enough values to unpack (expected 3, got 2)",
     "output_type": "error",
     "traceback": [
      "\u001b[1;31m---------------------------------------------------------------------------\u001b[0m",
      "\u001b[1;31mValueError\u001b[0m                                Traceback (most recent call last)",
      "Cell \u001b[1;32mIn[4], line 1\u001b[0m\n\u001b[1;32m----> 1\u001b[0m q,p,y \u001b[38;5;241m=\u001b[39m \u001b[38;5;241m4\u001b[39m,\u001b[38;5;241m89.01545\u001b[39m\n\u001b[0;32m      2\u001b[0m q,p,y\n",
      "\u001b[1;31mValueError\u001b[0m: not enough values to unpack (expected 3, got 2)"
     ]
    }
   ],
   "source": [
    "q,p,y = 4,89.01545\n",
    "q,p,y"
   ]
  },
  {
   "cell_type": "code",
   "execution_count": 5,
   "id": "fbb1eef7",
   "metadata": {},
   "outputs": [
    {
     "name": "stdout",
     "output_type": "stream",
     "text": [
      "450\n"
     ]
    },
    {
     "data": {
      "text/plain": [
       "'450'"
      ]
     },
     "execution_count": 5,
     "metadata": {},
     "output_type": "execute_result"
    }
   ],
   "source": [
    "w = '450'\n",
    "print(w)\n",
    "w"
   ]
  },
  {
   "cell_type": "markdown",
   "id": "d6c68907",
   "metadata": {},
   "source": [
    "# Data Types:\n",
    "    - int => only numbers\n",
    "    - float => numbers and decimal values\n",
    "    - str => enclosed with ' or \"\n",
    "    - complex => real and imaginary \n",
    "    - boolean => Either True or False\n",
    "    - None => None\n",
    "    - All Data Structures [list,tuple,set and dictionary]"
   ]
  },
  {
   "cell_type": "code",
   "execution_count": 6,
   "id": "a2e3ec61",
   "metadata": {},
   "outputs": [
    {
     "data": {
      "text/plain": [
       "25"
      ]
     },
     "execution_count": 6,
     "metadata": {},
     "output_type": "execute_result"
    }
   ],
   "source": [
    "a = 25\n",
    "a"
   ]
  },
  {
   "cell_type": "markdown",
   "id": "d2e56431",
   "metadata": {},
   "source": [
    "# Type:\n",
    "    - To know the data type of a variable\n",
    "    Syntax:\n",
    "        type(variablename)"
   ]
  },
  {
   "cell_type": "code",
   "execution_count": 8,
   "id": "642f3d6b",
   "metadata": {},
   "outputs": [
    {
     "name": "stdout",
     "output_type": "stream",
     "text": [
      "1 <class 'int'>\n",
      "56.012 <class 'float'>\n",
      "Lokesh <class 'str'>\n",
      "(5+8j) <class 'complex'>\n",
      "False <class 'bool'>\n",
      "67 <class 'str'>\n",
      "None <class 'NoneType'>\n"
     ]
    }
   ],
   "source": [
    "a,b,c,d,e,f,g = 1,56.012,'Lokesh',5+8j,False,'67',None\n",
    "print(a,type(a))\n",
    "print(b,type(b))\n",
    "print(c,type(c))\n",
    "print(d,type(d))\n",
    "print(e,type(e))\n",
    "print(f,type(f))\n",
    "print(g,type(g))"
   ]
  },
  {
   "cell_type": "code",
   "execution_count": 9,
   "id": "7316145d",
   "metadata": {},
   "outputs": [
    {
     "name": "stdout",
     "output_type": "stream",
     "text": [
      "<class 'str'>\n"
     ]
    },
    {
     "data": {
      "text/plain": [
       "str"
      ]
     },
     "execution_count": 9,
     "metadata": {},
     "output_type": "execute_result"
    }
   ],
   "source": [
    "q = '78'\n",
    "print(type(q))\n",
    "type(q)"
   ]
  },
  {
   "cell_type": "markdown",
   "id": "e5428965",
   "metadata": {},
   "source": [
    "# Operators:\n",
    "    - Arithmetic => +,-,/,//,*,%,**\n",
    "    - Relational => >,<,>=,<=,!=,==\n",
    "    - Logical => AND,OR,NOT\n",
    "    - Bitwise => &,|,^,!,>>,<<\n",
    "    - Assignment => +=,-=,/=,%=,//=,**=\n",
    "    - Identity => is,is not\n",
    "    - Membership => in,not in"
   ]
  },
  {
   "cell_type": "code",
   "execution_count": 13,
   "id": "8ba4567b",
   "metadata": {},
   "outputs": [
    {
     "name": "stdout",
     "output_type": "stream",
     "text": [
      "50\n",
      "10\n",
      "2\n"
     ]
    }
   ],
   "source": [
    "a,b = 10,50\n",
    "print(a and b)\n",
    "print(b and a)\n",
    "print(a & b)"
   ]
  },
  {
   "cell_type": "code",
   "execution_count": 12,
   "id": "f7c9b507",
   "metadata": {},
   "outputs": [
    {
     "name": "stdout",
     "output_type": "stream",
     "text": [
      "10\n",
      "50\n",
      "58\n"
     ]
    }
   ],
   "source": [
    "print(a or b)\n",
    "print(b or a)\n",
    "print(a | b)"
   ]
  },
  {
   "cell_type": "code",
   "execution_count": 16,
   "id": "e7af9f9f",
   "metadata": {},
   "outputs": [],
   "source": [
    "import keyword"
   ]
  },
  {
   "cell_type": "code",
   "execution_count": 17,
   "id": "d58dd129",
   "metadata": {},
   "outputs": [
    {
     "name": "stdout",
     "output_type": "stream",
     "text": [
      "['__all__', '__builtins__', '__cached__', '__doc__', '__file__', '__loader__', '__name__', '__package__', '__spec__', 'iskeyword', 'issoftkeyword', 'kwlist', 'softkwlist']\n"
     ]
    }
   ],
   "source": [
    "print(dir(keyword))"
   ]
  },
  {
   "cell_type": "code",
   "execution_count": 18,
   "id": "6e1fb61c",
   "metadata": {},
   "outputs": [
    {
     "name": "stdout",
     "output_type": "stream",
     "text": [
      "['False', 'None', 'True', '__peg_parser__', 'and', 'as', 'assert', 'async', 'await', 'break', 'class', 'continue', 'def', 'del', 'elif', 'else', 'except', 'finally', 'for', 'from', 'global', 'if', 'import', 'in', 'is', 'lambda', 'nonlocal', 'not', 'or', 'pass', 'raise', 'return', 'try', 'while', 'with', 'yield']\n"
     ]
    }
   ],
   "source": [
    "print(keyword.kwlist)"
   ]
  },
  {
   "cell_type": "code",
   "execution_count": 19,
   "id": "29c33a81",
   "metadata": {},
   "outputs": [
    {
     "name": "stdout",
     "output_type": "stream",
     "text": [
      "36\n"
     ]
    }
   ],
   "source": [
    "print(len(keyword.kwlist))"
   ]
  },
  {
   "cell_type": "markdown",
   "id": "0b0e6e2c",
   "metadata": {},
   "source": [
    "# Input Formatting:\n",
    "    - It reads a value from user and it stores as a string data type by default\n",
    "    - It displays an info to a user\n",
    "    Syntax:\n",
    "        variablename = input(\"something info\")"
   ]
  },
  {
   "cell_type": "code",
   "execution_count": 3,
   "id": "45bd64bf",
   "metadata": {},
   "outputs": [
    {
     "name": "stdout",
     "output_type": "stream",
     "text": [
      "Enter a value: 45\n",
      "45 <class 'str'>\n"
     ]
    }
   ],
   "source": [
    "w = input(\"Enter a value: \")\n",
    "print(w,type(w))"
   ]
  },
  {
   "cell_type": "code",
   "execution_count": null,
   "id": "1595dc57",
   "metadata": {},
   "outputs": [],
   "source": [
    "a = 45\n",
    "print(a)"
   ]
  },
  {
   "cell_type": "code",
   "execution_count": 1,
   "id": "50f9becf",
   "metadata": {},
   "outputs": [
    {
     "ename": "NameError",
     "evalue": "name 'keyword' is not defined",
     "output_type": "error",
     "traceback": [
      "\u001b[1;31m---------------------------------------------------------------------------\u001b[0m",
      "\u001b[1;31mNameError\u001b[0m                                 Traceback (most recent call last)",
      "Cell \u001b[1;32mIn[1], line 1\u001b[0m\n\u001b[1;32m----> 1\u001b[0m \u001b[38;5;28mprint\u001b[39m(\u001b[43mkeyword\u001b[49m\u001b[38;5;241m.\u001b[39mkwlist)\n",
      "\u001b[1;31mNameError\u001b[0m: name 'keyword' is not defined"
     ]
    }
   ],
   "source": [
    "print(keyword.kwlist)"
   ]
  },
  {
   "cell_type": "code",
   "execution_count": 2,
   "id": "8425f9aa",
   "metadata": {},
   "outputs": [
    {
     "ename": "NameError",
     "evalue": "name 'a' is not defined",
     "output_type": "error",
     "traceback": [
      "\u001b[1;31m---------------------------------------------------------------------------\u001b[0m",
      "\u001b[1;31mNameError\u001b[0m                                 Traceback (most recent call last)",
      "Cell \u001b[1;32mIn[2], line 1\u001b[0m\n\u001b[1;32m----> 1\u001b[0m \u001b[38;5;28mprint\u001b[39m(\u001b[43ma\u001b[49m)\n",
      "\u001b[1;31mNameError\u001b[0m: name 'a' is not defined"
     ]
    }
   ],
   "source": [
    "print(a)"
   ]
  },
  {
   "cell_type": "markdown",
   "id": "20c72583",
   "metadata": {},
   "source": [
    "# Typecasting:\n",
    "    - To change a dat type from one data type to another data type\n",
    "    - int()\n",
    "    - float()\n",
    "    - str()\n",
    "    - complex()\n",
    "    - All Data Structures[list(),tuple(),set() and dict()]"
   ]
  },
  {
   "cell_type": "markdown",
   "id": "df6e8785",
   "metadata": {},
   "source": [
    "# Output Formatting:\n",
    "    - ,+\n",
    "    - %\n",
    "    - .format\n",
    "    - f"
   ]
  },
  {
   "cell_type": "code",
   "execution_count": 12,
   "id": "5d10bbb6",
   "metadata": {},
   "outputs": [
    {
     "name": "stdout",
     "output_type": "stream",
     "text": [
      "Enter a value: 1\n",
      "Enter b value: 6\n",
      "Addition of 1 and 6 is: 7\n",
      "Addition of 1 and 6 is: 7\n",
      "Addition of 1 and 6 is: 7\n",
      "Addition of 1 and 6 is: 7\n",
      "Addition of 6 and 1 is: 7\n",
      "Addition of 1 and 6 is: 7\n"
     ]
    }
   ],
   "source": [
    "n,m = int(input(\"Enter a value: \")),int(input(\"Enter b value: \"))\n",
    "print(\"Addition of\",n,\"and\",m,\"is:\",n+m)\n",
    "print(\"Addition of \"+str(n)+\" and \"+str(m)+\" is: \"+str(n+m))\n",
    "print(\"Addition of %d and %d is: %d\"%(n,m,n+m))\n",
    "print(\"Addition of {} and {} is: {}\".format(n,m,n+m))\n",
    "print(\"Addition of {1} and {0} is: {2}\".format(n,m,n+m))\n",
    "print(f\"Addition of {n} and {m} is: {n+m}\")"
   ]
  },
  {
   "cell_type": "code",
   "execution_count": null,
   "id": "964400fa",
   "metadata": {},
   "outputs": [],
   "source": []
  }
 ],
 "metadata": {
  "kernelspec": {
   "display_name": "Python 3 (ipykernel)",
   "language": "python",
   "name": "python3"
  },
  "language_info": {
   "codemirror_mode": {
    "name": "ipython",
    "version": 3
   },
   "file_extension": ".py",
   "mimetype": "text/x-python",
   "name": "python",
   "nbconvert_exporter": "python",
   "pygments_lexer": "ipython3",
   "version": "3.9.13"
  }
 },
 "nbformat": 4,
 "nbformat_minor": 5
}
