{
 "cells": [
  {
   "cell_type": "markdown",
   "id": "4b085472",
   "metadata": {},
   "source": [
    "## Dictionary:\n",
    "    - It stores data in key and value pairs\n",
    "    - It can be represented as empty {} by default it is a dictionary\n",
    "    - It can be type casted as dict()\n",
    "    - Slicing can be done by using their methods\n",
    "    - Keys can't be duplicate but values can stores duplicate items\n",
    "    - It allows all data type values\n",
    "    - It stores data in ordered format with key and value pairs"
   ]
  },
  {
   "cell_type": "code",
   "execution_count": 1,
   "id": "e061f0fd",
   "metadata": {},
   "outputs": [
    {
     "name": "stdout",
     "output_type": "stream",
     "text": [
      "{} <class 'dict'>\n",
      "{} <class 'dict'>\n",
      "{'4'} <class 'set'>\n"
     ]
    }
   ],
   "source": [
    "w = {}\n",
    "s = {'4'}\n",
    "z = dict()\n",
    "print(w,type(w))\n",
    "print(z,type(z))\n",
    "print(s,type(s))"
   ]
  },
  {
   "cell_type": "code",
   "execution_count": 2,
   "id": "f0c9111f",
   "metadata": {},
   "outputs": [
    {
     "name": "stdout",
     "output_type": "stream",
     "text": [
      "{'sno': 1, 'sname': ['ramesh', 'harsha'], 'sal': 25000} <class 'dict'>\n"
     ]
    }
   ],
   "source": [
    "k = {'sno':1,'sname':['ramesh','harsha'],'sal':25000}\n",
    "print(k,type(k))"
   ]
  },
  {
   "cell_type": "code",
   "execution_count": 3,
   "id": "f81b10d4",
   "metadata": {},
   "outputs": [
    {
     "name": "stdout",
     "output_type": "stream",
     "text": [
      "0 <class 'int'>\n",
      "1 <class 'int'>\n",
      "2 <class 'int'>\n"
     ]
    }
   ],
   "source": [
    "for i in range(len(k)):\n",
    "    print(i,type(i))"
   ]
  },
  {
   "cell_type": "code",
   "execution_count": 4,
   "id": "454becdb",
   "metadata": {},
   "outputs": [
    {
     "ename": "KeyError",
     "evalue": "0",
     "output_type": "error",
     "traceback": [
      "\u001b[1;31m---------------------------------------------------------------------------\u001b[0m",
      "\u001b[1;31mKeyError\u001b[0m                                  Traceback (most recent call last)",
      "Cell \u001b[1;32mIn[4], line 2\u001b[0m\n\u001b[0;32m      1\u001b[0m \u001b[38;5;28;01mfor\u001b[39;00m i \u001b[38;5;129;01min\u001b[39;00m \u001b[38;5;28mrange\u001b[39m(\u001b[38;5;28mlen\u001b[39m(k)):\n\u001b[1;32m----> 2\u001b[0m     \u001b[38;5;28mprint\u001b[39m(\u001b[43mk\u001b[49m\u001b[43m[\u001b[49m\u001b[43mi\u001b[49m\u001b[43m]\u001b[49m,\u001b[38;5;28mtype\u001b[39m(k[i]))\n",
      "\u001b[1;31mKeyError\u001b[0m: 0"
     ]
    }
   ],
   "source": [
    "for i in range(len(k)):\n",
    "    print(k[i],type(k[i]))"
   ]
  },
  {
   "cell_type": "code",
   "execution_count": 5,
   "id": "6855ef2e",
   "metadata": {},
   "outputs": [
    {
     "name": "stdout",
     "output_type": "stream",
     "text": [
      "sno <class 'str'>\n",
      "sname <class 'str'>\n",
      "sal <class 'str'>\n"
     ]
    }
   ],
   "source": [
    "for i in k:\n",
    "    print(i,type(i))"
   ]
  },
  {
   "cell_type": "code",
   "execution_count": 6,
   "id": "d10043f9",
   "metadata": {},
   "outputs": [
    {
     "ename": "ValueError",
     "evalue": "too many values to unpack (expected 2)",
     "output_type": "error",
     "traceback": [
      "\u001b[1;31m---------------------------------------------------------------------------\u001b[0m",
      "\u001b[1;31mValueError\u001b[0m                                Traceback (most recent call last)",
      "Cell \u001b[1;32mIn[6], line 1\u001b[0m\n\u001b[1;32m----> 1\u001b[0m \u001b[38;5;28;01mfor\u001b[39;00m i,j \u001b[38;5;129;01min\u001b[39;00m k:\n\u001b[0;32m      2\u001b[0m     \u001b[38;5;28mprint\u001b[39m(i,j,\u001b[38;5;28mtype\u001b[39m(i),\u001b[38;5;28mtype\u001b[39m(j))\n",
      "\u001b[1;31mValueError\u001b[0m: too many values to unpack (expected 2)"
     ]
    }
   ],
   "source": [
    "for i,j in k:\n",
    "    print(i,j,type(i),type(j))"
   ]
  },
  {
   "cell_type": "code",
   "execution_count": 9,
   "id": "e06de085",
   "metadata": {},
   "outputs": [
    {
     "name": "stdout",
     "output_type": "stream",
     "text": [
      "sno <class 'str'>\n",
      "1 <class 'int'>\n",
      "sname <class 'str'>\n",
      "['ramesh', 'harsha'] <class 'list'>\n",
      "sal <class 'str'>\n",
      "25000 <class 'int'>\n"
     ]
    }
   ],
   "source": [
    "for i in k:\n",
    "    print(i,type(i))\n",
    "    print(k[i],type(k[i]))"
   ]
  },
  {
   "cell_type": "code",
   "execution_count": 10,
   "id": "877bfc87",
   "metadata": {},
   "outputs": [
    {
     "name": "stdout",
     "output_type": "stream",
     "text": [
      "['__class__', '__class_getitem__', '__contains__', '__delattr__', '__delitem__', '__dir__', '__doc__', '__eq__', '__format__', '__ge__', '__getattribute__', '__getitem__', '__gt__', '__hash__', '__init__', '__init_subclass__', '__ior__', '__iter__', '__le__', '__len__', '__lt__', '__ne__', '__new__', '__or__', '__reduce__', '__reduce_ex__', '__repr__', '__reversed__', '__ror__', '__setattr__', '__setitem__', '__sizeof__', '__str__', '__subclasshook__', 'clear', 'copy', 'fromkeys', 'get', 'items', 'keys', 'pop', 'popitem', 'setdefault', 'update', 'values']\n"
     ]
    }
   ],
   "source": [
    "print(dir(dict))"
   ]
  },
  {
   "cell_type": "code",
   "execution_count": 11,
   "id": "20944b8f",
   "metadata": {},
   "outputs": [
    {
     "name": "stdout",
     "output_type": "stream",
     "text": [
      "{}\n",
      "{'sname': None}\n"
     ]
    }
   ],
   "source": [
    "k = {}\n",
    "print(k)\n",
    "k.setdefault('sname')\n",
    "print(k)"
   ]
  },
  {
   "cell_type": "code",
   "execution_count": 12,
   "id": "f63a859d",
   "metadata": {},
   "outputs": [
    {
     "name": "stdout",
     "output_type": "stream",
     "text": [
      "{'sname': None}\n",
      "{'sname': None, 'college': 'KEC'}\n"
     ]
    }
   ],
   "source": [
    "print(k)\n",
    "k.setdefault('college','KEC')\n",
    "print(k)"
   ]
  },
  {
   "cell_type": "code",
   "execution_count": 14,
   "id": "c5eeddb5",
   "metadata": {},
   "outputs": [
    {
     "name": "stdout",
     "output_type": "stream",
     "text": [
      "{'sname': None, 'college': 'KEC'}\n",
      "{'sname': 'Tilak', 'college': 'KEC'}\n"
     ]
    }
   ],
   "source": [
    "print(k)\n",
    "k.update({'sname':'Tilak'})\n",
    "print(k)"
   ]
  },
  {
   "cell_type": "code",
   "execution_count": 15,
   "id": "0a0bc9fc",
   "metadata": {},
   "outputs": [
    {
     "name": "stdout",
     "output_type": "stream",
     "text": [
      "{'sname': 'Tilak', 'college': 'KEC'}\n",
      "{'sname': 'Tilak', 'college': 'KEC', 'sno': 5, 'address': 'Kuppam'}\n"
     ]
    }
   ],
   "source": [
    "print(k)\n",
    "k.update({'sno':5,'address':'Kuppam'})\n",
    "print(k)"
   ]
  },
  {
   "cell_type": "code",
   "execution_count": 16,
   "id": "de394a92",
   "metadata": {},
   "outputs": [
    {
     "name": "stdout",
     "output_type": "stream",
     "text": [
      "{'sname': 'Tilak', 'college': 'KEC', 'sno': 5, 'address': 'Kuppam'}\n",
      "dict_keys(['sname', 'college', 'sno', 'address'])\n",
      "dict_values(['Tilak', 'KEC', 5, 'Kuppam'])\n"
     ]
    }
   ],
   "source": [
    "print(k)\n",
    "print(k.keys())\n",
    "print(k.values())"
   ]
  },
  {
   "cell_type": "code",
   "execution_count": 17,
   "id": "2b5e9e9b",
   "metadata": {},
   "outputs": [
    {
     "name": "stdout",
     "output_type": "stream",
     "text": [
      "{'sname': 'Tilak', 'college': 'KEC', 'sno': 5, 'address': 'Kuppam'}\n",
      "Tilak\n",
      "Kuppam\n"
     ]
    }
   ],
   "source": [
    "print(k)\n",
    "print(k.get('sname'))\n",
    "print(k['address'])"
   ]
  },
  {
   "cell_type": "code",
   "execution_count": 18,
   "id": "496c8f73",
   "metadata": {},
   "outputs": [
    {
     "name": "stdout",
     "output_type": "stream",
     "text": [
      "{'sname': 'Tilak', 'college': 'KEC', 'sno': 5, 'address': 'Kuppam'}\n",
      "None\n"
     ]
    }
   ],
   "source": [
    "print(k)\n",
    "print(k.get('sal'))"
   ]
  },
  {
   "cell_type": "code",
   "execution_count": 19,
   "id": "f199f90f",
   "metadata": {},
   "outputs": [
    {
     "name": "stdout",
     "output_type": "stream",
     "text": [
      "{'sname': 'Tilak', 'college': 'KEC', 'sno': 5, 'address': 'Kuppam'}\n"
     ]
    },
    {
     "ename": "TypeError",
     "evalue": "pop expected at least 1 argument, got 0",
     "output_type": "error",
     "traceback": [
      "\u001b[1;31m---------------------------------------------------------------------------\u001b[0m",
      "\u001b[1;31mTypeError\u001b[0m                                 Traceback (most recent call last)",
      "Cell \u001b[1;32mIn[19], line 2\u001b[0m\n\u001b[0;32m      1\u001b[0m \u001b[38;5;28mprint\u001b[39m(k)\n\u001b[1;32m----> 2\u001b[0m \u001b[43mk\u001b[49m\u001b[38;5;241;43m.\u001b[39;49m\u001b[43mpop\u001b[49m\u001b[43m(\u001b[49m\u001b[43m)\u001b[49m\n\u001b[0;32m      3\u001b[0m \u001b[38;5;28mprint\u001b[39m(k)\n",
      "\u001b[1;31mTypeError\u001b[0m: pop expected at least 1 argument, got 0"
     ]
    }
   ],
   "source": [
    "print(k)\n",
    "k.pop()\n",
    "print(k)"
   ]
  },
  {
   "cell_type": "code",
   "execution_count": 20,
   "id": "8002093d",
   "metadata": {},
   "outputs": [
    {
     "name": "stdout",
     "output_type": "stream",
     "text": [
      "{'sname': 'Tilak', 'college': 'KEC', 'sno': 5, 'address': 'Kuppam'}\n",
      "{'sname': 'Tilak', 'college': 'KEC', 'address': 'Kuppam'}\n"
     ]
    }
   ],
   "source": [
    "print(k)\n",
    "k.pop('sno')\n",
    "print(k)"
   ]
  },
  {
   "cell_type": "code",
   "execution_count": 21,
   "id": "54293b48",
   "metadata": {},
   "outputs": [
    {
     "name": "stdout",
     "output_type": "stream",
     "text": [
      "{'sname': 'Tilak', 'college': 'KEC', 'address': 'Kuppam'}\n"
     ]
    },
    {
     "ename": "KeyError",
     "evalue": "'gender'",
     "output_type": "error",
     "traceback": [
      "\u001b[1;31m---------------------------------------------------------------------------\u001b[0m",
      "\u001b[1;31mKeyError\u001b[0m                                  Traceback (most recent call last)",
      "Cell \u001b[1;32mIn[21], line 2\u001b[0m\n\u001b[0;32m      1\u001b[0m \u001b[38;5;28mprint\u001b[39m(k)\n\u001b[1;32m----> 2\u001b[0m \u001b[43mk\u001b[49m\u001b[38;5;241;43m.\u001b[39;49m\u001b[43mpop\u001b[49m\u001b[43m(\u001b[49m\u001b[38;5;124;43m'\u001b[39;49m\u001b[38;5;124;43mgender\u001b[39;49m\u001b[38;5;124;43m'\u001b[39;49m\u001b[43m)\u001b[49m\n\u001b[0;32m      3\u001b[0m \u001b[38;5;28mprint\u001b[39m(k)\n",
      "\u001b[1;31mKeyError\u001b[0m: 'gender'"
     ]
    }
   ],
   "source": [
    "print(k)\n",
    "k.pop('gender')\n",
    "print(k)"
   ]
  },
  {
   "cell_type": "code",
   "execution_count": 22,
   "id": "ba837d52",
   "metadata": {},
   "outputs": [
    {
     "name": "stdout",
     "output_type": "stream",
     "text": [
      "{'sname': 'Tilak', 'college': 'KEC', 'address': 'Kuppam'}\n",
      "{'sname': 'Tilak', 'college': 'KEC'}\n"
     ]
    }
   ],
   "source": [
    "print(k)\n",
    "k.popitem()\n",
    "print(k)"
   ]
  },
  {
   "cell_type": "code",
   "execution_count": 23,
   "id": "79b4d60a",
   "metadata": {},
   "outputs": [
    {
     "name": "stdout",
     "output_type": "stream",
     "text": [
      "{'sname': 'Tilak', 'college': 'KEC'}\n"
     ]
    },
    {
     "ename": "TypeError",
     "evalue": "dict.popitem() takes no arguments (1 given)",
     "output_type": "error",
     "traceback": [
      "\u001b[1;31m---------------------------------------------------------------------------\u001b[0m",
      "\u001b[1;31mTypeError\u001b[0m                                 Traceback (most recent call last)",
      "Cell \u001b[1;32mIn[23], line 2\u001b[0m\n\u001b[0;32m      1\u001b[0m \u001b[38;5;28mprint\u001b[39m(k)\n\u001b[1;32m----> 2\u001b[0m \u001b[43mk\u001b[49m\u001b[38;5;241;43m.\u001b[39;49m\u001b[43mpopitem\u001b[49m\u001b[43m(\u001b[49m\u001b[38;5;124;43m'\u001b[39;49m\u001b[38;5;124;43msname\u001b[39;49m\u001b[38;5;124;43m'\u001b[39;49m\u001b[43m)\u001b[49m\n\u001b[0;32m      3\u001b[0m \u001b[38;5;28mprint\u001b[39m(k)\n",
      "\u001b[1;31mTypeError\u001b[0m: dict.popitem() takes no arguments (1 given)"
     ]
    }
   ],
   "source": [
    "print(k)\n",
    "k.popitem('sname')\n",
    "print(k)"
   ]
  },
  {
   "cell_type": "code",
   "execution_count": 24,
   "id": "fd6dee9d",
   "metadata": {},
   "outputs": [
    {
     "name": "stdout",
     "output_type": "stream",
     "text": [
      "{'sname': 'Tilak', 'college': 'KEC'}\n",
      "{'sname': 'Tilak', 'college': 'KEC'}\n",
      "{'sname': 'Tilak', 'college': 'KEC'}\n"
     ]
    }
   ],
   "source": [
    "print(k)\n",
    "j = k.copy()\n",
    "print(k)\n",
    "print(j)"
   ]
  },
  {
   "cell_type": "code",
   "execution_count": 36,
   "id": "05ec1391",
   "metadata": {},
   "outputs": [
    {
     "name": "stdout",
     "output_type": "stream",
     "text": [
      "{1: ['a', 'b', 'c'], 2: ['a', 'b', 'c'], 3: ['a', 'b', 'c']}\n"
     ]
    }
   ],
   "source": [
    "k={}\n",
    "a=[1,2,3]\n",
    "b=['a','b','c']\n",
    "c=k.fromkeys(a,b)\n",
    "print(c)\n"
   ]
  },
  {
   "cell_type": "code",
   "execution_count": 39,
   "id": "907a19b7",
   "metadata": {},
   "outputs": [
    {
     "name": "stdout",
     "output_type": "stream",
     "text": [
      "{'5': 'Suresh'}\n"
     ]
    }
   ],
   "source": [
    "g = {}\n",
    "v = '5'\n",
    "k = 'Suresh'\n",
    "g = g.fromkeys(v,k)\n",
    "print(g)"
   ]
  },
  {
   "cell_type": "code",
   "execution_count": 40,
   "id": "7fdb8108",
   "metadata": {},
   "outputs": [
    {
     "name": "stdout",
     "output_type": "stream",
     "text": [
      "{'5': 'Suresh'}\n",
      "{}\n"
     ]
    }
   ],
   "source": [
    "print(g)\n",
    "g.clear()\n",
    "print(g)"
   ]
  },
  {
   "cell_type": "markdown",
   "id": "f6403c85",
   "metadata": {},
   "source": [
    "## Set:\n",
    "    - It can be represeted as {} with some value in it\n",
    "    - It stores data in unordered format and ordering in kernel\n",
    "    - It doesnt allows duplicate values\n",
    "    - It can be typecasted as set()\n",
    "    - It stores all data type values\n",
    "    - Slicing can't be done because of no index\n",
    "    - It can changes a value"
   ]
  },
  {
   "cell_type": "code",
   "execution_count": 41,
   "id": "fb2e260e",
   "metadata": {},
   "outputs": [
    {
     "name": "stdout",
     "output_type": "stream",
     "text": [
      "{0.32, False, '56', 'Harsha', (5+23j), 12} <class 'set'>\n"
     ]
    },
    {
     "data": {
      "text/plain": [
       "{(5+23j), 0.32, 12, '56', False, 'Harsha'}"
      ]
     },
     "execution_count": 41,
     "metadata": {},
     "output_type": "execute_result"
    }
   ],
   "source": [
    "t = {12,0.32,False,'Harsha',5+23j,'56',12}\n",
    "print(t,type(t))\n",
    "t"
   ]
  },
  {
   "cell_type": "code",
   "execution_count": 42,
   "id": "0d404079",
   "metadata": {},
   "outputs": [
    {
     "name": "stdout",
     "output_type": "stream",
     "text": [
      "0 <class 'int'>\n",
      "1 <class 'int'>\n",
      "2 <class 'int'>\n",
      "3 <class 'int'>\n",
      "4 <class 'int'>\n",
      "5 <class 'int'>\n"
     ]
    }
   ],
   "source": [
    "for i in range(len(t)):\n",
    "    print(i,type(i))"
   ]
  },
  {
   "cell_type": "code",
   "execution_count": 43,
   "id": "fdbf3b27",
   "metadata": {},
   "outputs": [
    {
     "ename": "TypeError",
     "evalue": "'set' object is not subscriptable",
     "output_type": "error",
     "traceback": [
      "\u001b[1;31m---------------------------------------------------------------------------\u001b[0m",
      "\u001b[1;31mTypeError\u001b[0m                                 Traceback (most recent call last)",
      "Cell \u001b[1;32mIn[43], line 2\u001b[0m\n\u001b[0;32m      1\u001b[0m \u001b[38;5;28;01mfor\u001b[39;00m i \u001b[38;5;129;01min\u001b[39;00m \u001b[38;5;28mrange\u001b[39m(\u001b[38;5;28mlen\u001b[39m(t)):\n\u001b[1;32m----> 2\u001b[0m     \u001b[38;5;28mprint\u001b[39m(\u001b[43mt\u001b[49m\u001b[43m[\u001b[49m\u001b[43mi\u001b[49m\u001b[43m]\u001b[49m,\u001b[38;5;28mtype\u001b[39m(t[i]))\n",
      "\u001b[1;31mTypeError\u001b[0m: 'set' object is not subscriptable"
     ]
    }
   ],
   "source": [
    "for i in range(len(t)):\n",
    "    print(t[i],type(t[i]))"
   ]
  },
  {
   "cell_type": "code",
   "execution_count": 44,
   "id": "ce90ced5",
   "metadata": {},
   "outputs": [
    {
     "name": "stdout",
     "output_type": "stream",
     "text": [
      "0.32 <class 'float'>\n",
      "False <class 'bool'>\n",
      "56 <class 'str'>\n",
      "Harsha <class 'str'>\n",
      "(5+23j) <class 'complex'>\n",
      "12 <class 'int'>\n"
     ]
    }
   ],
   "source": [
    "for i in t:\n",
    "    print(i,type(i))"
   ]
  },
  {
   "cell_type": "code",
   "execution_count": 45,
   "id": "b833e38d",
   "metadata": {},
   "outputs": [
    {
     "name": "stdout",
     "output_type": "stream",
     "text": [
      "['__and__', '__class__', '__class_getitem__', '__contains__', '__delattr__', '__dir__', '__doc__', '__eq__', '__format__', '__ge__', '__getattribute__', '__gt__', '__hash__', '__iand__', '__init__', '__init_subclass__', '__ior__', '__isub__', '__iter__', '__ixor__', '__le__', '__len__', '__lt__', '__ne__', '__new__', '__or__', '__rand__', '__reduce__', '__reduce_ex__', '__repr__', '__ror__', '__rsub__', '__rxor__', '__setattr__', '__sizeof__', '__str__', '__sub__', '__subclasshook__', '__xor__', 'add', 'clear', 'copy', 'difference', 'difference_update', 'discard', 'intersection', 'intersection_update', 'isdisjoint', 'issubset', 'issuperset', 'pop', 'remove', 'symmetric_difference', 'symmetric_difference_update', 'union', 'update']\n"
     ]
    }
   ],
   "source": [
    "print(dir(set))"
   ]
  },
  {
   "cell_type": "code",
   "execution_count": 46,
   "id": "084c6638",
   "metadata": {},
   "outputs": [
    {
     "name": "stdout",
     "output_type": "stream",
     "text": [
      "{34, 67, 4, 5, 23}\n",
      "{67, 4, 340, 56, 12}\n"
     ]
    }
   ],
   "source": [
    "g = {34,67,23,4,5}\n",
    "k = {340,56,67,4,12}\n",
    "print(g)\n",
    "print(k)"
   ]
  },
  {
   "cell_type": "code",
   "execution_count": 47,
   "id": "d3f6233c",
   "metadata": {},
   "outputs": [
    {
     "name": "stdout",
     "output_type": "stream",
     "text": [
      "{34, 67, 4, 5, 23}\n",
      "{67, 4, 340, 56, 12}\n",
      "{34, 67, 4, 5, 12, 340, 23, 56}\n",
      "{34, 67, 4, 5, 12, 340, 23, 56}\n",
      "{34, 67, 4, 5, 23}\n",
      "{67, 4, 340, 56, 12}\n"
     ]
    }
   ],
   "source": [
    "print(g)\n",
    "print(k)\n",
    "print(g.union(k))\n",
    "print(k.union(g))\n",
    "print(g)\n",
    "print(k)"
   ]
  },
  {
   "cell_type": "code",
   "execution_count": 48,
   "id": "52a22fd5",
   "metadata": {},
   "outputs": [
    {
     "name": "stdout",
     "output_type": "stream",
     "text": [
      "{34, 67, 4, 5, 23}\n",
      "{67, 4, 340, 56, 12}\n",
      "{67, 4}\n",
      "{67, 4}\n",
      "{34, 67, 4, 5, 23}\n",
      "{67, 4, 340, 56, 12}\n"
     ]
    }
   ],
   "source": [
    "print(g)\n",
    "print(k)\n",
    "print(g.intersection(k))\n",
    "print(k.intersection(g))\n",
    "print(g)\n",
    "print(k)"
   ]
  },
  {
   "cell_type": "code",
   "execution_count": 49,
   "id": "9bdf9c60",
   "metadata": {},
   "outputs": [
    {
     "name": "stdout",
     "output_type": "stream",
     "text": [
      "{34, 67, 4, 5, 23}\n",
      "{67, 4, 340, 56, 12}\n",
      "{34, 5, 23}\n",
      "{56, 340, 12}\n",
      "{34, 67, 4, 5, 23}\n",
      "{67, 4, 340, 56, 12}\n"
     ]
    }
   ],
   "source": [
    "print(g)\n",
    "print(k)\n",
    "print(g.difference(k))\n",
    "print(k.difference(g))\n",
    "print(g)\n",
    "print(k)"
   ]
  },
  {
   "cell_type": "code",
   "execution_count": 50,
   "id": "ab6a3c69",
   "metadata": {},
   "outputs": [
    {
     "name": "stdout",
     "output_type": "stream",
     "text": [
      "{34, 67, 4, 5, 23}\n",
      "{67, 4, 340, 56, 12}\n",
      "{34, 340, 5, 23, 56, 12}\n",
      "{34, 5, 340, 23, 56, 12}\n",
      "{34, 67, 4, 5, 23}\n",
      "{67, 4, 340, 56, 12}\n"
     ]
    }
   ],
   "source": [
    "print(g)\n",
    "print(k)\n",
    "print(g.symmetric_difference(k))\n",
    "print(k.symmetric_difference(g))\n",
    "print(g)\n",
    "print(k)"
   ]
  },
  {
   "cell_type": "code",
   "execution_count": 51,
   "id": "51607bdc",
   "metadata": {},
   "outputs": [
    {
     "name": "stdout",
     "output_type": "stream",
     "text": [
      "{6, 7, 89, 90, 45}\n",
      "{6, 7, 89, 90, 12, 45}\n"
     ]
    }
   ],
   "source": [
    "h = {45,6,7,89,90}\n",
    "print(h)\n",
    "h.add(12)\n",
    "print(h)"
   ]
  },
  {
   "cell_type": "code",
   "execution_count": 52,
   "id": "92a644e9",
   "metadata": {},
   "outputs": [
    {
     "name": "stdout",
     "output_type": "stream",
     "text": [
      "{6, 7, 89, 90, 12, 45}\n"
     ]
    },
    {
     "ename": "TypeError",
     "evalue": "set.add() takes exactly one argument (3 given)",
     "output_type": "error",
     "traceback": [
      "\u001b[1;31m---------------------------------------------------------------------------\u001b[0m",
      "\u001b[1;31mTypeError\u001b[0m                                 Traceback (most recent call last)",
      "Cell \u001b[1;32mIn[52], line 2\u001b[0m\n\u001b[0;32m      1\u001b[0m \u001b[38;5;28mprint\u001b[39m(h)\n\u001b[1;32m----> 2\u001b[0m \u001b[43mh\u001b[49m\u001b[38;5;241;43m.\u001b[39;49m\u001b[43madd\u001b[49m\u001b[43m(\u001b[49m\u001b[38;5;241;43m45\u001b[39;49m\u001b[43m,\u001b[49m\u001b[38;5;241;43m89\u001b[39;49m\u001b[43m,\u001b[49m\u001b[38;5;241;43m23\u001b[39;49m\u001b[43m)\u001b[49m\n\u001b[0;32m      3\u001b[0m \u001b[38;5;28mprint\u001b[39m(h)\n",
      "\u001b[1;31mTypeError\u001b[0m: set.add() takes exactly one argument (3 given)"
     ]
    }
   ],
   "source": [
    "print(h)\n",
    "h.add(45,89,23)\n",
    "print(h)"
   ]
  },
  {
   "cell_type": "code",
   "execution_count": 53,
   "id": "d0102922",
   "metadata": {},
   "outputs": [
    {
     "name": "stdout",
     "output_type": "stream",
     "text": [
      "{6, 7, 89, 90, 12, 45}\n"
     ]
    },
    {
     "ename": "TypeError",
     "evalue": "unhashable type: 'list'",
     "output_type": "error",
     "traceback": [
      "\u001b[1;31m---------------------------------------------------------------------------\u001b[0m",
      "\u001b[1;31mTypeError\u001b[0m                                 Traceback (most recent call last)",
      "Cell \u001b[1;32mIn[53], line 2\u001b[0m\n\u001b[0;32m      1\u001b[0m \u001b[38;5;28mprint\u001b[39m(h)\n\u001b[1;32m----> 2\u001b[0m \u001b[43mh\u001b[49m\u001b[38;5;241;43m.\u001b[39;49m\u001b[43madd\u001b[49m\u001b[43m(\u001b[49m\u001b[43m[\u001b[49m\u001b[38;5;241;43m1\u001b[39;49m\u001b[43m,\u001b[49m\u001b[38;5;241;43m89\u001b[39;49m\u001b[43m,\u001b[49m\u001b[38;5;241;43m56\u001b[39;49m\u001b[43m]\u001b[49m\u001b[43m)\u001b[49m\n\u001b[0;32m      3\u001b[0m \u001b[38;5;28mprint\u001b[39m(h)\n",
      "\u001b[1;31mTypeError\u001b[0m: unhashable type: 'list'"
     ]
    }
   ],
   "source": [
    "print(h)\n",
    "h.add([1,89,56])\n",
    "print(h)"
   ]
  },
  {
   "cell_type": "code",
   "execution_count": 54,
   "id": "fab57c86",
   "metadata": {},
   "outputs": [
    {
     "name": "stdout",
     "output_type": "stream",
     "text": [
      "{6, 7, 89, 90, 12, 45}\n",
      "{(4, 20, 56), 6, 7, 89, 90, 12, 45}\n"
     ]
    }
   ],
   "source": [
    "print(h)\n",
    "h.add((4,20,56))\n",
    "print(h)"
   ]
  },
  {
   "cell_type": "code",
   "execution_count": 55,
   "id": "c47cedc4",
   "metadata": {},
   "outputs": [
    {
     "name": "stdout",
     "output_type": "stream",
     "text": [
      "{(4, 20, 56), 6, 7, 89, 90, 12, 45}\n"
     ]
    },
    {
     "ename": "TypeError",
     "evalue": "unhashable type: 'set'",
     "output_type": "error",
     "traceback": [
      "\u001b[1;31m---------------------------------------------------------------------------\u001b[0m",
      "\u001b[1;31mTypeError\u001b[0m                                 Traceback (most recent call last)",
      "Cell \u001b[1;32mIn[55], line 2\u001b[0m\n\u001b[0;32m      1\u001b[0m \u001b[38;5;28mprint\u001b[39m(h)\n\u001b[1;32m----> 2\u001b[0m \u001b[43mh\u001b[49m\u001b[38;5;241;43m.\u001b[39;49m\u001b[43madd\u001b[49m\u001b[43m(\u001b[49m\u001b[43m{\u001b[49m\u001b[38;5;241;43m34\u001b[39;49m\u001b[43m,\u001b[49m\u001b[38;5;241;43m67\u001b[39;49m\u001b[43m,\u001b[49m\u001b[38;5;241;43m89\u001b[39;49m\u001b[43m}\u001b[49m\u001b[43m)\u001b[49m\n\u001b[0;32m      3\u001b[0m \u001b[38;5;28mprint\u001b[39m(h)\n",
      "\u001b[1;31mTypeError\u001b[0m: unhashable type: 'set'"
     ]
    }
   ],
   "source": [
    "print(h)\n",
    "h.add({34,67,89})\n",
    "print(h)"
   ]
  },
  {
   "cell_type": "code",
   "execution_count": 56,
   "id": "80129b71",
   "metadata": {},
   "outputs": [
    {
     "name": "stdout",
     "output_type": "stream",
     "text": [
      "{(4, 20, 56), 6, 7, 89, 90, 12, 45}\n",
      "{6, 7, 89, 90, 12, 45}\n"
     ]
    }
   ],
   "source": [
    "print(h)\n",
    "h.pop()\n",
    "print(h)"
   ]
  },
  {
   "cell_type": "code",
   "execution_count": 57,
   "id": "4fb0871b",
   "metadata": {},
   "outputs": [
    {
     "name": "stdout",
     "output_type": "stream",
     "text": [
      "{6, 7, 89, 90, 12, 45}\n"
     ]
    },
    {
     "ename": "TypeError",
     "evalue": "set.pop() takes no arguments (1 given)",
     "output_type": "error",
     "traceback": [
      "\u001b[1;31m---------------------------------------------------------------------------\u001b[0m",
      "\u001b[1;31mTypeError\u001b[0m                                 Traceback (most recent call last)",
      "Cell \u001b[1;32mIn[57], line 2\u001b[0m\n\u001b[0;32m      1\u001b[0m \u001b[38;5;28mprint\u001b[39m(h)\n\u001b[1;32m----> 2\u001b[0m \u001b[43mh\u001b[49m\u001b[38;5;241;43m.\u001b[39;49m\u001b[43mpop\u001b[49m\u001b[43m(\u001b[49m\u001b[38;5;241;43m12\u001b[39;49m\u001b[43m)\u001b[49m\n\u001b[0;32m      3\u001b[0m \u001b[38;5;28mprint\u001b[39m(h)\n",
      "\u001b[1;31mTypeError\u001b[0m: set.pop() takes no arguments (1 given)"
     ]
    }
   ],
   "source": [
    "print(h)\n",
    "h.pop(12)\n",
    "print(h)"
   ]
  },
  {
   "cell_type": "code",
   "execution_count": 60,
   "id": "f1f71718",
   "metadata": {},
   "outputs": [
    {
     "name": "stdout",
     "output_type": "stream",
     "text": [
      "{6, 7, 89, 12, 45}\n",
      "{6, 89, 12, 45}\n"
     ]
    }
   ],
   "source": [
    "print(h)\n",
    "h.remove(7)\n",
    "print(h)"
   ]
  },
  {
   "cell_type": "code",
   "execution_count": 61,
   "id": "be93576c",
   "metadata": {},
   "outputs": [
    {
     "name": "stdout",
     "output_type": "stream",
     "text": [
      "{6, 89, 12, 45}\n"
     ]
    },
    {
     "ename": "KeyError",
     "evalue": "-200",
     "output_type": "error",
     "traceback": [
      "\u001b[1;31m---------------------------------------------------------------------------\u001b[0m",
      "\u001b[1;31mKeyError\u001b[0m                                  Traceback (most recent call last)",
      "Cell \u001b[1;32mIn[61], line 2\u001b[0m\n\u001b[0;32m      1\u001b[0m \u001b[38;5;28mprint\u001b[39m(h)\n\u001b[1;32m----> 2\u001b[0m \u001b[43mh\u001b[49m\u001b[38;5;241;43m.\u001b[39;49m\u001b[43mremove\u001b[49m\u001b[43m(\u001b[49m\u001b[38;5;241;43m-\u001b[39;49m\u001b[38;5;241;43m200\u001b[39;49m\u001b[43m)\u001b[49m\n\u001b[0;32m      3\u001b[0m \u001b[38;5;28mprint\u001b[39m(h)\n",
      "\u001b[1;31mKeyError\u001b[0m: -200"
     ]
    }
   ],
   "source": [
    "print(h)\n",
    "h.remove(-200)\n",
    "print(h)"
   ]
  },
  {
   "cell_type": "code",
   "execution_count": 62,
   "id": "6ac91fe1",
   "metadata": {},
   "outputs": [
    {
     "name": "stdout",
     "output_type": "stream",
     "text": [
      "{6, 89, 12, 45}\n"
     ]
    },
    {
     "ename": "TypeError",
     "evalue": "'int' object is not iterable",
     "output_type": "error",
     "traceback": [
      "\u001b[1;31m---------------------------------------------------------------------------\u001b[0m",
      "\u001b[1;31mTypeError\u001b[0m                                 Traceback (most recent call last)",
      "Cell \u001b[1;32mIn[62], line 2\u001b[0m\n\u001b[0;32m      1\u001b[0m \u001b[38;5;28mprint\u001b[39m(h)\n\u001b[1;32m----> 2\u001b[0m \u001b[43mh\u001b[49m\u001b[38;5;241;43m.\u001b[39;49m\u001b[43mupdate\u001b[49m\u001b[43m(\u001b[49m\u001b[38;5;241;43m100\u001b[39;49m\u001b[43m)\u001b[49m\n\u001b[0;32m      3\u001b[0m \u001b[38;5;28mprint\u001b[39m(h)\n",
      "\u001b[1;31mTypeError\u001b[0m: 'int' object is not iterable"
     ]
    }
   ],
   "source": [
    "print(h)\n",
    "h.update(100)\n",
    "print(h)"
   ]
  },
  {
   "cell_type": "code",
   "execution_count": 63,
   "id": "f75c4282",
   "metadata": {},
   "outputs": [
    {
     "name": "stdout",
     "output_type": "stream",
     "text": [
      "{6, 89, 12, 45}\n",
      "{5, 6, 9, 12, 45, 89}\n"
     ]
    }
   ],
   "source": [
    "print(h)\n",
    "h.update([12,5,9,6])\n",
    "print(h)"
   ]
  },
  {
   "cell_type": "code",
   "execution_count": 64,
   "id": "d659b382",
   "metadata": {},
   "outputs": [
    {
     "name": "stdout",
     "output_type": "stream",
     "text": [
      "{5, 6, 9, 12, 45, 89}\n",
      "{5, 6, 9, 10, 12, 45, 23, 89}\n"
     ]
    }
   ],
   "source": [
    "print(h)\n",
    "h.update((10,89,5,6,23))\n",
    "print(h)"
   ]
  },
  {
   "cell_type": "code",
   "execution_count": 65,
   "id": "ce6bbf42",
   "metadata": {},
   "outputs": [
    {
     "name": "stdout",
     "output_type": "stream",
     "text": [
      "{5, 6, 9, 10, 12, 45, 23, 89}\n",
      "{450, 5, 6, 9, 10, 12, 45, 658, 596, 23, 89}\n"
     ]
    }
   ],
   "source": [
    "print(h)\n",
    "h.update({450,596,658})\n",
    "print(h)"
   ]
  },
  {
   "cell_type": "code",
   "execution_count": 66,
   "id": "c82ce8cd",
   "metadata": {},
   "outputs": [
    {
     "name": "stdout",
     "output_type": "stream",
     "text": [
      "{34, 67, 5, 8, 9}\n",
      "{89, 5, 6, 23, 9, 45}\n"
     ]
    }
   ],
   "source": [
    "t = {67,8,9,34,5}\n",
    "v = {45,89,6,23,9,5}\n",
    "print(t)\n",
    "print(v)"
   ]
  },
  {
   "cell_type": "code",
   "execution_count": 67,
   "id": "92efde4d",
   "metadata": {},
   "outputs": [
    {
     "name": "stdout",
     "output_type": "stream",
     "text": [
      "{34, 67, 5, 8, 9}\n",
      "{89, 5, 6, 23, 9, 45}\n",
      "{9, 5}\n",
      "{89, 5, 6, 23, 9, 45}\n"
     ]
    }
   ],
   "source": [
    "print(t)\n",
    "print(v)\n",
    "t.intersection_update(v)\n",
    "print(t)\n",
    "print(v)"
   ]
  },
  {
   "cell_type": "code",
   "execution_count": 68,
   "id": "84a1f813",
   "metadata": {},
   "outputs": [
    {
     "name": "stdout",
     "output_type": "stream",
     "text": [
      "{8, 56, 45, 23}\n",
      "{1, 23, 8, 59, 78}\n",
      "{56, 45}\n",
      "{1, 23, 8, 59, 78}\n"
     ]
    }
   ],
   "source": [
    "g = {45,8,56,23}\n",
    "s = {1,78,8,23,59}\n",
    "print(g)\n",
    "print(s)\n",
    "g.difference_update(s)\n",
    "print(g)\n",
    "print(s)"
   ]
  },
  {
   "cell_type": "code",
   "execution_count": 69,
   "id": "c33379f7",
   "metadata": {},
   "outputs": [
    {
     "name": "stdout",
     "output_type": "stream",
     "text": [
      "{23, 5, 7, 56, 45, 78}\n",
      "{34, 4, 23, 56, 90}\n",
      "{34, 4, 5, 7, 45, 78, 90}\n",
      "{34, 4, 23, 56, 90}\n"
     ]
    }
   ],
   "source": [
    "q = {45,56,78,23,5,7}\n",
    "z = {90,34,56,23,4}\n",
    "print(q)\n",
    "print(z)\n",
    "q.symmetric_difference_update(z)\n",
    "print(q)\n",
    "print(z)"
   ]
  },
  {
   "cell_type": "code",
   "execution_count": 70,
   "id": "d149d61e",
   "metadata": {},
   "outputs": [
    {
     "name": "stdout",
     "output_type": "stream",
     "text": [
      "{1, 5, 23, 89, 45}\n",
      "{1, 23, 89, 45}\n"
     ]
    }
   ],
   "source": [
    "n = {45,89,5,23,1}\n",
    "print(n)\n",
    "n.discard(5)\n",
    "print(n)"
   ]
  },
  {
   "cell_type": "code",
   "execution_count": 71,
   "id": "00c25eb4",
   "metadata": {},
   "outputs": [
    {
     "name": "stdout",
     "output_type": "stream",
     "text": [
      "{1, 23, 89, 45}\n",
      "{1, 23, 45}\n"
     ]
    }
   ],
   "source": [
    "print(n)\n",
    "n.discard(89)\n",
    "print(n)"
   ]
  },
  {
   "cell_type": "code",
   "execution_count": 72,
   "id": "4dc78742",
   "metadata": {},
   "outputs": [
    {
     "name": "stdout",
     "output_type": "stream",
     "text": [
      "{1, 23, 45}\n"
     ]
    },
    {
     "ename": "TypeError",
     "evalue": "set.discard() takes exactly one argument (2 given)",
     "output_type": "error",
     "traceback": [
      "\u001b[1;31m---------------------------------------------------------------------------\u001b[0m",
      "\u001b[1;31mTypeError\u001b[0m                                 Traceback (most recent call last)",
      "Cell \u001b[1;32mIn[72], line 2\u001b[0m\n\u001b[0;32m      1\u001b[0m \u001b[38;5;28mprint\u001b[39m(n)\n\u001b[1;32m----> 2\u001b[0m \u001b[43mn\u001b[49m\u001b[38;5;241;43m.\u001b[39;49m\u001b[43mdiscard\u001b[49m\u001b[43m(\u001b[49m\u001b[38;5;241;43m1\u001b[39;49m\u001b[43m,\u001b[49m\u001b[38;5;241;43m45\u001b[39;49m\u001b[43m)\u001b[49m\n\u001b[0;32m      3\u001b[0m \u001b[38;5;28mprint\u001b[39m(n)\n",
      "\u001b[1;31mTypeError\u001b[0m: set.discard() takes exactly one argument (2 given)"
     ]
    }
   ],
   "source": [
    "print(n)\n",
    "n.discard(1,45)\n",
    "print(n)"
   ]
  },
  {
   "cell_type": "markdown",
   "id": "bf07b899",
   "metadata": {},
   "source": [
    "## String:"
   ]
  },
  {
   "cell_type": "code",
   "execution_count": 73,
   "id": "9916bb60",
   "metadata": {},
   "outputs": [
    {
     "name": "stdout",
     "output_type": "stream",
     "text": [
      "This is sample <class 'str'>\n"
     ]
    }
   ],
   "source": [
    "v = \"This is sample\"\n",
    "print(v,type(v))"
   ]
  },
  {
   "cell_type": "code",
   "execution_count": 74,
   "id": "7f3c5ed3",
   "metadata": {},
   "outputs": [
    {
     "name": "stdout",
     "output_type": "stream",
     "text": [
      "This is sample\n",
      "i\n",
      "m\n",
      "is is s\n",
      "s is sa\n",
      "\n",
      "This is sample\n",
      "s is sample\n",
      "This \n",
      "elpmas si sihT\n"
     ]
    }
   ],
   "source": [
    "print(v)\n",
    "print(v[5])\n",
    "print(v[-4])\n",
    "print(v[2:9])\n",
    "print(v[3:-4])\n",
    "print(v[-4:6])\n",
    "print(v[::])\n",
    "print(v[3::])\n",
    "print(v[:5:])\n",
    "print(v[::-1])"
   ]
  },
  {
   "cell_type": "code",
   "execution_count": 75,
   "id": "a7a60526",
   "metadata": {},
   "outputs": [
    {
     "name": "stdout",
     "output_type": "stream",
     "text": [
      "0 <class 'int'>\n",
      "1 <class 'int'>\n",
      "2 <class 'int'>\n",
      "3 <class 'int'>\n",
      "4 <class 'int'>\n",
      "5 <class 'int'>\n",
      "6 <class 'int'>\n",
      "7 <class 'int'>\n",
      "8 <class 'int'>\n",
      "9 <class 'int'>\n",
      "10 <class 'int'>\n",
      "11 <class 'int'>\n",
      "12 <class 'int'>\n",
      "13 <class 'int'>\n"
     ]
    }
   ],
   "source": [
    "for j in range(len(v)):\n",
    "    print(j,type(j))"
   ]
  },
  {
   "cell_type": "code",
   "execution_count": 76,
   "id": "b206bc01",
   "metadata": {},
   "outputs": [
    {
     "name": "stdout",
     "output_type": "stream",
     "text": [
      "T <class 'str'>\n",
      "h <class 'str'>\n",
      "i <class 'str'>\n",
      "s <class 'str'>\n",
      "  <class 'str'>\n",
      "i <class 'str'>\n",
      "s <class 'str'>\n",
      "  <class 'str'>\n",
      "s <class 'str'>\n",
      "a <class 'str'>\n",
      "m <class 'str'>\n",
      "p <class 'str'>\n",
      "l <class 'str'>\n",
      "e <class 'str'>\n"
     ]
    }
   ],
   "source": [
    "for j in range(len(v)):\n",
    "    print(v[j],type(v[j]))"
   ]
  },
  {
   "cell_type": "code",
   "execution_count": 77,
   "id": "5a1af626",
   "metadata": {},
   "outputs": [
    {
     "name": "stdout",
     "output_type": "stream",
     "text": [
      "T <class 'str'>\n",
      "h <class 'str'>\n",
      "i <class 'str'>\n",
      "s <class 'str'>\n",
      "  <class 'str'>\n",
      "i <class 'str'>\n",
      "s <class 'str'>\n",
      "  <class 'str'>\n",
      "s <class 'str'>\n",
      "a <class 'str'>\n",
      "m <class 'str'>\n",
      "p <class 'str'>\n",
      "l <class 'str'>\n",
      "e <class 'str'>\n"
     ]
    }
   ],
   "source": [
    "for j in v:\n",
    "    print(j,type(j))"
   ]
  },
  {
   "cell_type": "code",
   "execution_count": 78,
   "id": "b7628146",
   "metadata": {},
   "outputs": [
    {
     "name": "stdout",
     "output_type": "stream",
     "text": [
      "['__add__', '__class__', '__contains__', '__delattr__', '__dir__', '__doc__', '__eq__', '__format__', '__ge__', '__getattribute__', '__getitem__', '__getnewargs__', '__gt__', '__hash__', '__init__', '__init_subclass__', '__iter__', '__le__', '__len__', '__lt__', '__mod__', '__mul__', '__ne__', '__new__', '__reduce__', '__reduce_ex__', '__repr__', '__rmod__', '__rmul__', '__setattr__', '__sizeof__', '__str__', '__subclasshook__', 'capitalize', 'casefold', 'center', 'count', 'encode', 'endswith', 'expandtabs', 'find', 'format', 'format_map', 'index', 'isalnum', 'isalpha', 'isascii', 'isdecimal', 'isdigit', 'isidentifier', 'islower', 'isnumeric', 'isprintable', 'isspace', 'istitle', 'isupper', 'join', 'ljust', 'lower', 'lstrip', 'maketrans', 'partition', 'removeprefix', 'removesuffix', 'replace', 'rfind', 'rindex', 'rjust', 'rpartition', 'rsplit', 'rstrip', 'split', 'splitlines', 'startswith', 'strip', 'swapcase', 'title', 'translate', 'upper', 'zfill']\n"
     ]
    }
   ],
   "source": [
    "print(dir(str))"
   ]
  },
  {
   "cell_type": "code",
   "execution_count": 79,
   "id": "6c0d409f",
   "metadata": {},
   "outputs": [
    {
     "name": "stdout",
     "output_type": "stream",
     "text": [
      "This is An Example For StRing\n"
     ]
    }
   ],
   "source": [
    "w = \"This is An Example For StRing\"\n",
    "print(w)"
   ]
  },
  {
   "cell_type": "code",
   "execution_count": 80,
   "id": "8b410894",
   "metadata": {},
   "outputs": [
    {
     "name": "stdout",
     "output_type": "stream",
     "text": [
      "This is An Example For StRing\n",
      "This Is An Example For String\n",
      "this is an example for string\n",
      "This is an example for string\n",
      "tHIS IS aN eXAMPLE fOR sTrING\n",
      "this is an example for string\n",
      "THIS IS AN EXAMPLE FOR STRING\n"
     ]
    }
   ],
   "source": [
    "print(w)\n",
    "print(w.title())\n",
    "print(w.casefold())\n",
    "print(w.capitalize())\n",
    "print(w.swapcase())\n",
    "print(w.lower())\n",
    "print(w.upper())"
   ]
  },
  {
   "cell_type": "code",
   "execution_count": 81,
   "id": "51646e39",
   "metadata": {},
   "outputs": [
    {
     "name": "stdout",
     "output_type": "stream",
     "text": [
      "  Sample for Left\n",
      "Sample for Right\n"
     ]
    }
   ],
   "source": [
    "g = \"  Sample for Left\"\n",
    "q = \"Sample for Right\"\n",
    "print(g)\n",
    "print(q)"
   ]
  },
  {
   "cell_type": "code",
   "execution_count": 85,
   "id": "9d0f37f1",
   "metadata": {},
   "outputs": [
    {
     "name": "stdout",
     "output_type": "stream",
     "text": [
      "  Sample for Left\n",
      "  Sample for Left                                 \n",
      "Sample for Right                                  \n",
      "                                   Sample for Left\n",
      "                                  Sample for Right\n",
      "000000000000000000000000000000000  Sample for Left\n",
      "0000000000000000000000000000000000Sample for Right\n"
     ]
    }
   ],
   "source": [
    "print(g)\n",
    "print(g.ljust(50))\n",
    "print(q.ljust(50))\n",
    "print(g.rjust(50))\n",
    "print(q.rjust(50))\n",
    "print(g.zfill(50))\n",
    "print(q.zfill(50))"
   ]
  },
  {
   "cell_type": "code",
   "execution_count": 86,
   "id": "fd14afd7",
   "metadata": {},
   "outputs": [
    {
     "name": "stdout",
     "output_type": "stream",
     "text": [
      " Sample example for Testing   \n",
      "Sample example for Testing\n",
      "Sample example for Testing   \n",
      " Sample example for Testing\n"
     ]
    }
   ],
   "source": [
    "z = \" Sample example for Testing   \"\n",
    "print(z)\n",
    "print(z.strip())\n",
    "print(z.lstrip())\n",
    "print(z.rstrip())"
   ]
  },
  {
   "cell_type": "code",
   "execution_count": 87,
   "id": "a062567e",
   "metadata": {},
   "outputs": [
    {
     "name": "stdout",
     "output_type": "stream",
     "text": [
      "Demo for string\n",
      "['Demo', 'for', 'string']\n",
      "['Demo', 'for', 'string']\n"
     ]
    }
   ],
   "source": [
    "a = \"Demo for string\"\n",
    "print(a)\n",
    "print(a.split())\n",
    "print(a.rsplit())"
   ]
  },
  {
   "cell_type": "code",
   "execution_count": 89,
   "id": "5c994aaf",
   "metadata": {},
   "outputs": [
    {
     "name": "stdout",
     "output_type": "stream",
     "text": [
      "['Dem', ' f', 'r string']\n",
      "['Dem', ' f', 'r string']\n",
      "['Demo for str', 'ng']\n"
     ]
    }
   ],
   "source": [
    "print(a.split('o'))\n",
    "print(a.rsplit('o'))\n",
    "print(a.rsplit('i'))"
   ]
  },
  {
   "cell_type": "code",
   "execution_count": 90,
   "id": "5ffbfbea",
   "metadata": {},
   "outputs": [
    {
     "name": "stdout",
     "output_type": "stream",
     "text": [
      "4 5 78 9 janu 90\n",
      "['4', '5', '78', '9', 'janu', '90'] <class 'list'>\n"
     ]
    }
   ],
   "source": [
    "p = input().split()\n",
    "print(p,type(p))"
   ]
  },
  {
   "cell_type": "code",
   "execution_count": 91,
   "id": "75b99efd",
   "metadata": {},
   "outputs": [
    {
     "name": "stdout",
     "output_type": "stream",
     "text": [
      "1,89,56,23,45,78,12\n",
      "['1', '89', '56', '23', '45', '78', '12'] <class 'list'>\n"
     ]
    }
   ],
   "source": [
    "h = input().split(',')\n",
    "print(h,type(h))"
   ]
  },
  {
   "cell_type": "code",
   "execution_count": 92,
   "id": "4ca9302b",
   "metadata": {},
   "outputs": [
    {
     "name": "stdout",
     "output_type": "stream",
     "text": [
      "Demo for string\n",
      "0\n",
      "2\n"
     ]
    }
   ],
   "source": [
    "print(a)\n",
    "print(a.count('y'))\n",
    "print(a.count('o'))"
   ]
  },
  {
   "cell_type": "code",
   "execution_count": 95,
   "id": "9ab31af6",
   "metadata": {},
   "outputs": [
    {
     "name": "stdout",
     "output_type": "stream",
     "text": [
      "Demo for string\n",
      "10\n",
      "10\n",
      "6\n"
     ]
    }
   ],
   "source": [
    "print(a)\n",
    "print(a.index('t'))\n",
    "print(a.find('t'))\n",
    "print(a.rfind('o'))"
   ]
  },
  {
   "cell_type": "code",
   "execution_count": 96,
   "id": "5cb0e5c4",
   "metadata": {},
   "outputs": [
    {
     "name": "stdout",
     "output_type": "stream",
     "text": [
      "Demo for string\n"
     ]
    },
    {
     "ename": "ValueError",
     "evalue": "substring not found",
     "output_type": "error",
     "traceback": [
      "\u001b[1;31m---------------------------------------------------------------------------\u001b[0m",
      "\u001b[1;31mValueError\u001b[0m                                Traceback (most recent call last)",
      "Cell \u001b[1;32mIn[96], line 2\u001b[0m\n\u001b[0;32m      1\u001b[0m \u001b[38;5;28mprint\u001b[39m(a)\n\u001b[1;32m----> 2\u001b[0m \u001b[38;5;28mprint\u001b[39m(\u001b[43ma\u001b[49m\u001b[38;5;241;43m.\u001b[39;49m\u001b[43mindex\u001b[49m\u001b[43m(\u001b[49m\u001b[38;5;124;43m'\u001b[39;49m\u001b[38;5;124;43mz\u001b[39;49m\u001b[38;5;124;43m'\u001b[39;49m\u001b[43m)\u001b[49m)\n",
      "\u001b[1;31mValueError\u001b[0m: substring not found"
     ]
    }
   ],
   "source": [
    "print(a)\n",
    "print(a.index('z'))"
   ]
  },
  {
   "cell_type": "code",
   "execution_count": 97,
   "id": "40222460",
   "metadata": {},
   "outputs": [
    {
     "name": "stdout",
     "output_type": "stream",
     "text": [
      "Demo for string\n",
      "-1\n",
      "-1\n"
     ]
    }
   ],
   "source": [
    "print(a)\n",
    "print(a.find('z'))\n",
    "print(a.rfind('z'))"
   ]
  },
  {
   "cell_type": "code",
   "execution_count": 98,
   "id": "d17ac219",
   "metadata": {},
   "outputs": [
    {
     "name": "stdout",
     "output_type": "stream",
     "text": [
      "Demo for string\n",
      "Demo for sPring\n",
      "Demo for string\n"
     ]
    }
   ],
   "source": [
    "print(a)\n",
    "print(a.replace('t','P'))\n",
    "print(a)"
   ]
  },
  {
   "cell_type": "code",
   "execution_count": 101,
   "id": "dbb16c6f",
   "metadata": {},
   "outputs": [
    {
     "name": "stdout",
     "output_type": "stream",
     "text": [
      "[45, 78, 9]\n",
      "[-4-5-,- -7-8-,- -9-]\n"
     ]
    }
   ],
   "source": [
    "k = [45,78,9]\n",
    "print(k)\n",
    "k = \"-\".join(str(k))\n",
    "print(k)"
   ]
  },
  {
   "cell_type": "code",
   "execution_count": 102,
   "id": "8f38392b",
   "metadata": {},
   "outputs": [
    {
     "name": "stdout",
     "output_type": "stream",
     "text": [
      "Demo\n",
      "D$e$m$o\n"
     ]
    }
   ],
   "source": [
    "c = \"Demo\"\n",
    "print(c)\n",
    "c = \"$\".join(c)\n",
    "print(c)"
   ]
  },
  {
   "cell_type": "markdown",
   "id": "c009ce3e",
   "metadata": {},
   "source": [
    "## Packages and Modules:\n",
    "    Package:\n",
    "        - Collection of Subpackages and Modules\n",
    "        Ex:\n",
    "            Directory => Folder\n",
    "    Modules:\n",
    "        - Collection of Variables,functions,Class and its methods\n",
    "        Ex:\n",
    "            File => .py file\n",
    "            => variable,function,class and methods"
   ]
  },
  {
   "cell_type": "code",
   "execution_count": 1,
   "id": "3ae88218",
   "metadata": {},
   "outputs": [],
   "source": [
    "import sample"
   ]
  },
  {
   "cell_type": "code",
   "execution_count": 2,
   "id": "86e8fcd1",
   "metadata": {},
   "outputs": [
    {
     "name": "stdout",
     "output_type": "stream",
     "text": [
      "['__builtins__', '__cached__', '__doc__', '__file__', '__loader__', '__name__', '__package__', '__spec__', 'readnumber', 'w']\n"
     ]
    }
   ],
   "source": [
    "print(dir(sample))"
   ]
  },
  {
   "cell_type": "code",
   "execution_count": 3,
   "id": "594257d2",
   "metadata": {},
   "outputs": [
    {
     "name": "stdout",
     "output_type": "stream",
     "text": [
      "Sarath\n"
     ]
    }
   ],
   "source": [
    "print(sample.w)"
   ]
  },
  {
   "cell_type": "code",
   "execution_count": 4,
   "id": "eb053119",
   "metadata": {},
   "outputs": [
    {
     "name": "stdout",
     "output_type": "stream",
     "text": [
      "Enter a number: 45\n",
      "Entered number is: 45\n"
     ]
    }
   ],
   "source": [
    "sample.readnumber()"
   ]
  },
  {
   "cell_type": "code",
   "execution_count": 1,
   "id": "a1c80adb",
   "metadata": {},
   "outputs": [],
   "source": [
    "from DataFiles import demo"
   ]
  },
  {
   "cell_type": "code",
   "execution_count": 2,
   "id": "f2ca952b",
   "metadata": {},
   "outputs": [
    {
     "name": "stdout",
     "output_type": "stream",
     "text": [
      "['__builtins__', '__cached__', '__doc__', '__file__', '__loader__', '__name__', '__package__', '__spec__', 'q', 'sq']\n"
     ]
    }
   ],
   "source": [
    "print(dir(demo))"
   ]
  },
  {
   "cell_type": "code",
   "execution_count": 5,
   "id": "7eb52891",
   "metadata": {},
   "outputs": [
    {
     "name": "stdout",
     "output_type": "stream",
     "text": [
      "45\n",
      "Enter a number: 4\n",
      "Entered number is: 4 and its square is: 16\n"
     ]
    }
   ],
   "source": [
    "print(demo.q)\n",
    "demo.sq()"
   ]
  },
  {
   "cell_type": "code",
   "execution_count": 6,
   "id": "ebbb6cbe",
   "metadata": {},
   "outputs": [],
   "source": [
    "import ra"
   ]
  },
  {
   "cell_type": "code",
   "execution_count": 7,
   "id": "9a99f12d",
   "metadata": {},
   "outputs": [
    {
     "name": "stdout",
     "output_type": "stream",
     "text": [
      "['__builtins__', '__cached__', '__doc__', '__file__', '__loader__', '__name__', '__package__', '__spec__', 'c', 'numbersprint']\n"
     ]
    }
   ],
   "source": [
    "print(dir(ra))"
   ]
  },
  {
   "cell_type": "code",
   "execution_count": 8,
   "id": "e17ea3ac",
   "metadata": {},
   "outputs": [
    {
     "name": "stdout",
     "output_type": "stream",
     "text": [
      "tarun\n"
     ]
    }
   ],
   "source": [
    "print(ra.c)"
   ]
  },
  {
   "cell_type": "code",
   "execution_count": 9,
   "id": "b54cf1bc",
   "metadata": {},
   "outputs": [
    {
     "name": "stdout",
     "output_type": "stream",
     "text": [
      "2 5 89 6 7\n",
      "List of Elements are: 2  5  89  6  7  "
     ]
    }
   ],
   "source": [
    "b = input().split()\n",
    "ra.numbersprint(b)"
   ]
  },
  {
   "cell_type": "code",
   "execution_count": null,
   "id": "02650597",
   "metadata": {},
   "outputs": [],
   "source": []
  }
 ],
 "metadata": {
  "kernelspec": {
   "display_name": "Python 3 (ipykernel)",
   "language": "python",
   "name": "python3"
  },
  "language_info": {
   "codemirror_mode": {
    "name": "ipython",
    "version": 3
   },
   "file_extension": ".py",
   "mimetype": "text/x-python",
   "name": "python",
   "nbconvert_exporter": "python",
   "pygments_lexer": "ipython3",
   "version": "3.9.13"
  }
 },
 "nbformat": 4,
 "nbformat_minor": 5
}
