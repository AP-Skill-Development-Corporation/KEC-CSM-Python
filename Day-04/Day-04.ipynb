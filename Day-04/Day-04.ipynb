{
 "cells": [
  {
   "cell_type": "markdown",
   "id": "f101fe5d",
   "metadata": {},
   "source": [
    "# While\n",
    "    Syntax:\n",
    "        variableinitialisation\n",
    "        while condition:\n",
    "            //statements\n",
    "            incr/decr"
   ]
  },
  {
   "cell_type": "code",
   "execution_count": 1,
   "id": "097631ff",
   "metadata": {},
   "outputs": [
    {
     "name": "stdout",
     "output_type": "stream",
     "text": [
      "Enter a range: 5\n",
      "0 1 2 3 4 "
     ]
    }
   ],
   "source": [
    "n = int(input(\"Enter a range: \"))\n",
    "i = 0\n",
    "while n!=i:\n",
    "    print(i,end=\" \")\n",
    "    i+=1"
   ]
  },
  {
   "cell_type": "code",
   "execution_count": 2,
   "id": "11eb5168",
   "metadata": {},
   "outputs": [
    {
     "name": "stdout",
     "output_type": "stream",
     "text": [
      "Enter Start range: 10\n",
      "Enter End range: 20\n",
      "10 11 12 13 14 15 16 17 18 19 "
     ]
    }
   ],
   "source": [
    "n = int(input(\"Enter Start range: \"))\n",
    "m = int(input(\"Enter End range: \"))\n",
    "while n!=m:\n",
    "    print(n,end=\" \")\n",
    "    n+=1"
   ]
  },
  {
   "cell_type": "code",
   "execution_count": 3,
   "id": "85490894",
   "metadata": {},
   "outputs": [
    {
     "name": "stdout",
     "output_type": "stream",
     "text": [
      "Enter start range: 10\n",
      "Enter end range: 20\n",
      "Enter step range: 3\n",
      "10 13 16 19 "
     ]
    }
   ],
   "source": [
    "n = int(input(\"Enter start range: \"))\n",
    "m = int(input(\"Enter end range: \"))\n",
    "s = int(input(\"Enter step range: \"))\n",
    "while n<=m:\n",
    "    print(n,end=\" \")\n",
    "    n+=s"
   ]
  },
  {
   "cell_type": "code",
   "execution_count": null,
   "id": "89e398c9",
   "metadata": {},
   "outputs": [],
   "source": [
    "n = 137\n",
    "k=0\n",
    "\n",
    "k=k*10+(n%10)\n",
    "n=n//10"
   ]
  },
  {
   "cell_type": "code",
   "execution_count": 2,
   "id": "d6a189d6",
   "metadata": {},
   "outputs": [
    {
     "name": "stdout",
     "output_type": "stream",
     "text": [
      "731\n"
     ]
    }
   ],
   "source": [
    "n=137\n",
    "k=0\n",
    "while(n!=0):\n",
    "    k=k*10+(n%10)\n",
    "    n=n//10\n",
    "print(k)\n",
    "# print(k)"
   ]
  },
  {
   "cell_type": "code",
   "execution_count": null,
   "id": "1ab2b2ef",
   "metadata": {},
   "outputs": [],
   "source": [
    "n=137\n",
    "k=7\n",
    "n=13\n",
    "\n",
    "n=13\n",
    "k=73\n",
    "n=1\n",
    "\n",
    "n=1\n",
    "k=731\n",
    "n=0"
   ]
  },
  {
   "cell_type": "code",
   "execution_count": 6,
   "id": "3dcc9276",
   "metadata": {},
   "outputs": [
    {
     "name": "stdout",
     "output_type": "stream",
     "text": [
      "Enter A Number:7896445\n",
      "Given number is: 7896445\n",
      "Reverse is: 5446987\n"
     ]
    }
   ],
   "source": [
    "n=int(input(\"Enter A Number:\"))\n",
    "k=0\n",
    "m = n\n",
    "while n!=0:\n",
    "    k=k*10+n%10\n",
    "    n=n//10\n",
    "print(f\"Given number is: {m}\")\n",
    "print(f\"Reverse is: {k}\")"
   ]
  },
  {
   "cell_type": "code",
   "execution_count": 5,
   "id": "0a4d062d",
   "metadata": {},
   "outputs": [
    {
     "data": {
      "text/plain": [
       "7"
      ]
     },
     "execution_count": 5,
     "metadata": {},
     "output_type": "execute_result"
    }
   ],
   "source": [
    "137%10"
   ]
  },
  {
   "cell_type": "code",
   "execution_count": 7,
   "id": "db29a004",
   "metadata": {},
   "outputs": [
    {
     "data": {
      "text/plain": [
       "13"
      ]
     },
     "execution_count": 7,
     "metadata": {},
     "output_type": "execute_result"
    }
   ],
   "source": [
    "137//10"
   ]
  },
  {
   "cell_type": "code",
   "execution_count": 8,
   "id": "eacf83df",
   "metadata": {},
   "outputs": [
    {
     "name": "stdout",
     "output_type": "stream",
     "text": [
      "Enter A Number:454684135451\n",
      "Given number is: 454684135451\n",
      "Reverse is: 154531486454\n",
      "Digit Count is: 12\n"
     ]
    }
   ],
   "source": [
    "n=int(input(\"Enter A Number:\"))\n",
    "k = v = 0\n",
    "m = n\n",
    "while n!=0:\n",
    "    k=k*10+n%10\n",
    "    n=n//10\n",
    "    v+=1\n",
    "print(f\"Given number is: {m}\")\n",
    "print(f\"Reverse is: {k}\")\n",
    "print(f\"Digit Count is: {v}\")"
   ]
  },
  {
   "cell_type": "markdown",
   "id": "4daf2576",
   "metadata": {},
   "source": [
    "## Jumping Statements:\n",
    "    - break => To exit from a loop\n",
    "    - continue => It skips a value and executes entire loop\n",
    "    - pass => same as continue but for future enhancements we prefere pass for implementing different logic\n",
    "    - return => It is used in function and returns single or multiple values"
   ]
  },
  {
   "cell_type": "code",
   "execution_count": 9,
   "id": "2728b91b",
   "metadata": {},
   "outputs": [
    {
     "name": "stdout",
     "output_type": "stream",
     "text": [
      "Enter a range: 50\n",
      "0 1 2 3 4 5 6 7 8 9 "
     ]
    }
   ],
   "source": [
    "n = int(input(\"Enter a range: \"))\n",
    "for i in range(n):\n",
    "    if i>=10:\n",
    "        break\n",
    "    else:\n",
    "        print(i,end=\" \")"
   ]
  },
  {
   "cell_type": "code",
   "execution_count": 10,
   "id": "7f79486c",
   "metadata": {},
   "outputs": [
    {
     "name": "stdout",
     "output_type": "stream",
     "text": [
      "Enter a range: 20\n",
      "0 1 2 3 4 5 6 7 8 9 19\n"
     ]
    }
   ],
   "source": [
    "n = int(input(\"Enter a range: \"))\n",
    "for i in range(n):\n",
    "    if i>=10:\n",
    "        continue\n",
    "    else:\n",
    "        print(i,end=\" \")\n",
    "print(i)"
   ]
  },
  {
   "cell_type": "code",
   "execution_count": 11,
   "id": "91ae4d69",
   "metadata": {},
   "outputs": [
    {
     "name": "stdout",
     "output_type": "stream",
     "text": [
      "Enter a range: 15\n",
      "0 1 2 3 4 5 6 7 8 9 11 12 13 14 "
     ]
    }
   ],
   "source": [
    "n = int(input(\"Enter a range: \"))\n",
    "for i in range(n):\n",
    "    if i==10:\n",
    "        continue\n",
    "    else:\n",
    "        print(i,end=\" \")"
   ]
  },
  {
   "cell_type": "code",
   "execution_count": 12,
   "id": "30174d65",
   "metadata": {},
   "outputs": [
    {
     "name": "stdout",
     "output_type": "stream",
     "text": [
      "Enter a range: 20\n",
      "0 1 2 3 4 5 6 7 8 9 11 12 13 14 15 16 17 18 19 "
     ]
    }
   ],
   "source": [
    "n = int(input(\"Enter a range: \"))\n",
    "for i in range(n):\n",
    "    if i==10:\n",
    "        pass\n",
    "    else:\n",
    "        print(i,end=\" \")"
   ]
  },
  {
   "cell_type": "markdown",
   "id": "c1c5cfe2",
   "metadata": {},
   "source": [
    "## Nested or Inner Loop:\n",
    "    - Loop within a Loop"
   ]
  },
  {
   "cell_type": "code",
   "execution_count": 16,
   "id": "514a8295",
   "metadata": {},
   "outputs": [
    {
     "name": "stdout",
     "output_type": "stream",
     "text": [
      "Enter a range: 3\n",
      "* * * \n",
      "* * * \n",
      "* * * \n"
     ]
    }
   ],
   "source": [
    "n = int(input(\"Enter a range: \"))\n",
    "for i in range(n):\n",
    "    for j in range(n):\n",
    "        print(\"*\",end=\" \")\n",
    "    print()"
   ]
  },
  {
   "cell_type": "code",
   "execution_count": 18,
   "id": "4d34d4e0",
   "metadata": {},
   "outputs": [
    {
     "name": "stdout",
     "output_type": "stream",
     "text": [
      "Enter a range: 5\n",
      "* \n",
      "* * \n",
      "* * * \n",
      "* * * * \n",
      "* * * * * \n"
     ]
    }
   ],
   "source": [
    "n = int(input(\"Enter a range: \"))\n",
    "for i in range(n):\n",
    "    for j in range(i+1):\n",
    "        print(\"*\",end=\" \")\n",
    "    print()"
   ]
  },
  {
   "cell_type": "markdown",
   "id": "ecee4ca0",
   "metadata": {},
   "source": [
    "```\n",
    "01 02 03 04 05 06 07\n",
    "08 09 10 11 12 13 14\n",
    "15 16 17 18 19 20 21\n",
    "22 23 24 25 26 27 28\n",
    "29 30 31\n",
    "```"
   ]
  },
  {
   "cell_type": "code",
   "execution_count": 28,
   "id": "d7399733",
   "metadata": {},
   "outputs": [
    {
     "name": "stdout",
     "output_type": "stream",
     "text": [
      "() && () ## ** ## () \n",
      "## && ** () [] () () \n",
      "|| && || || || || || \n",
      "() && [] ** () [] () \n",
      "() && () \n"
     ]
    }
   ],
   "source": [
    "t = 1\n",
    "for i in range(5):\n",
    "    for j in range(7):\n",
    "        if j == 1:\n",
    "            print(\"&&\",end=\" \")\n",
    "        elif i == 2:\n",
    "            print(\"||\",end=\" \")\n",
    "        elif t%5==0:\n",
    "            print(\"**\",end=\" \")\n",
    "        elif t%2==0 and t<10:\n",
    "            print(\"##\",end=\" \")\n",
    "        elif t%3==0 and t>10:\n",
    "            print(\"[]\",end=\" \")\n",
    "        elif t<=31:\n",
    "            print(\"()\",end=\" \")\n",
    "        else:\n",
    "            break\n",
    "        t+=1\n",
    "    print()"
   ]
  },
  {
   "cell_type": "markdown",
   "id": "0d62f223",
   "metadata": {},
   "source": [
    "## Functions:\n",
    "    - Block of statements to perform a specific task\n",
    "    - To break a complex problem statement into modules to perform a better solution\n",
    "    Syntax:\n",
    "        def functionname(arguments):\n",
    "            //statements\n",
    "            return return_value\n",
    "    - 2 Types\n",
    "        => Predefined => Work is already fixed\n",
    "        => User Defined => User need to fix a task"
   ]
  },
  {
   "cell_type": "markdown",
   "id": "14c5d648",
   "metadata": {},
   "source": [
    "## User Defined Functions:\n",
    "    - with returntype and with arguments\n",
    "    - with returntype and without arguments\n",
    "    - without returntype and with arguments\n",
    "    - without returntype and without arguments"
   ]
  },
  {
   "cell_type": "markdown",
   "id": "86840417",
   "metadata": {},
   "source": [
    "## With returntype and with arguments\n",
    "```\n",
    "Reading => Main\n",
    "Printing => Main\n",
    "Logic => Function\n",
    "```"
   ]
  },
  {
   "cell_type": "code",
   "execution_count": 29,
   "id": "9ba43445",
   "metadata": {},
   "outputs": [
    {
     "name": "stdout",
     "output_type": "stream",
     "text": [
      "Enter a number: 5\n",
      "Given number 5 and it factorial is: 120\n"
     ]
    }
   ],
   "source": [
    "def fct(w):\n",
    "    b = 1\n",
    "    for i in range(1,w+1):\n",
    "        b = b*i\n",
    "    return b\n",
    "\n",
    "n = int(input(\"Enter a number: \"))\n",
    "print(f\"Given number {n} and it factorial is: {fct(n)}\")"
   ]
  },
  {
   "cell_type": "markdown",
   "id": "76b5b5db",
   "metadata": {},
   "source": [
    "## With returntype and without arguments\n",
    "```\n",
    "Reading => Function\n",
    "Printing => Main\n",
    "Logic => Function\n",
    "```"
   ]
  },
  {
   "cell_type": "code",
   "execution_count": 34,
   "id": "e7d2c3d1",
   "metadata": {},
   "outputs": [
    {
     "name": "stdout",
     "output_type": "stream",
     "text": [
      "Enter a number: 4\n",
      "Given number 4 and it factorial is: 24\n"
     ]
    }
   ],
   "source": [
    "def fct():\n",
    "    w = int(input(\"Enter a number: \"))\n",
    "    print(f\"Given number {w} \",end=\"\")\n",
    "    b = 1\n",
    "    for i in range(1,w+1):\n",
    "        b = b*i\n",
    "    return b\n",
    "\n",
    "print(f\"and it factorial is: {fct()}\")"
   ]
  },
  {
   "cell_type": "markdown",
   "id": "3000fb94",
   "metadata": {},
   "source": [
    "## Without returntype and with arguments\n",
    "```\n",
    "Reading => Main\n",
    "Printing => Function\n",
    "Logic => Function\n",
    "```"
   ]
  },
  {
   "cell_type": "code",
   "execution_count": 39,
   "id": "f9e8f6b9",
   "metadata": {},
   "outputs": [
    {
     "name": "stdout",
     "output_type": "stream",
     "text": [
      "Enter a number: 8\n",
      "Given number 8 and it factorial is: 40320\n"
     ]
    }
   ],
   "source": [
    "def fct(w):\n",
    "    b = 1\n",
    "    for i in range(1,w+1):\n",
    "        b = b*i\n",
    "    print(f\"and it factorial is: {b}\")\n",
    "    return \n",
    "\n",
    "n = int(input(\"Enter a number: \"))\n",
    "print(f\"Given number {n}\",end=\" \")\n",
    "fct(n)"
   ]
  },
  {
   "cell_type": "code",
   "execution_count": 38,
   "id": "05d3437a",
   "metadata": {},
   "outputs": [
    {
     "name": "stdout",
     "output_type": "stream",
     "text": [
      "Enter a number: 6\n",
      "Given number 6 and it factorial is: 720\n",
      "None\n"
     ]
    }
   ],
   "source": [
    "def fct(w):\n",
    "    b = 1\n",
    "    for i in range(1,w+1):\n",
    "        b = b*i\n",
    "    print(f\"and it factorial is: {b}\")\n",
    "    return \n",
    "\n",
    "n = int(input(\"Enter a number: \"))\n",
    "print(f\"Given number {n}\",end=\" \")\n",
    "print(fct(n))"
   ]
  },
  {
   "cell_type": "markdown",
   "id": "f3f09d80",
   "metadata": {},
   "source": [
    "## Without returntype and without arguments\n",
    "```\n",
    "Reading => Function\n",
    "Printing => Function\n",
    "Logic => Function\n",
    "```"
   ]
  },
  {
   "cell_type": "code",
   "execution_count": 42,
   "id": "1c754bac",
   "metadata": {},
   "outputs": [
    {
     "name": "stdout",
     "output_type": "stream",
     "text": [
      "Enter a number: 3\n",
      "Given number 3 and it factorial is: 6\n"
     ]
    }
   ],
   "source": [
    "def fct():\n",
    "    w = int(input(\"Enter a number: \"))\n",
    "    b = 1\n",
    "    print(f\"Given number {w}\",end=\" \")\n",
    "    for i in range(1,w+1):\n",
    "        b = b*i\n",
    "    print(f\"and it factorial is: {b}\")\n",
    "    return \n",
    "\n",
    "fct()"
   ]
  },
  {
   "cell_type": "code",
   "execution_count": 43,
   "id": "42d1e961",
   "metadata": {},
   "outputs": [],
   "source": [
    "def fct():\n",
    "    '''\n",
    "        To find Factorial of a number\n",
    "    '''\n",
    "    return\n",
    "\n",
    "fct()"
   ]
  },
  {
   "cell_type": "code",
   "execution_count": 44,
   "id": "bf443994",
   "metadata": {},
   "outputs": [
    {
     "name": "stdout",
     "output_type": "stream",
     "text": [
      "\n",
      "        To find Factorial of a number\n",
      "    \n"
     ]
    }
   ],
   "source": [
    "print(fct.__doc__)"
   ]
  },
  {
   "cell_type": "code",
   "execution_count": 45,
   "id": "b97b5424",
   "metadata": {},
   "outputs": [
    {
     "name": "stdout",
     "output_type": "stream",
     "text": [
      "print(value, ..., sep=' ', end='\\n', file=sys.stdout, flush=False)\n",
      "\n",
      "Prints the values to a stream, or to sys.stdout by default.\n",
      "Optional keyword arguments:\n",
      "file:  a file-like object (stream); defaults to the current sys.stdout.\n",
      "sep:   string inserted between values, default a space.\n",
      "end:   string appended after the last value, default a newline.\n",
      "flush: whether to forcibly flush the stream.\n"
     ]
    }
   ],
   "source": [
    "print(print.__doc__)"
   ]
  },
  {
   "cell_type": "code",
   "execution_count": 46,
   "id": "2d83e7a4",
   "metadata": {},
   "outputs": [
    {
     "name": "stdout",
     "output_type": "stream",
     "text": [
      "Forward raw_input to frontends\n",
      "\n",
      "        Raises\n",
      "        ------\n",
      "        StdinNotImplementedError if active frontend doesn't support stdin.\n",
      "        \n"
     ]
    }
   ],
   "source": [
    "print(input.__doc__)"
   ]
  },
  {
   "cell_type": "markdown",
   "id": "8c49c64a",
   "metadata": {},
   "source": [
    "## Function Argument Types:\n",
    "    - Default \n",
    "    - Keyword\n",
    "    - Required or Positional\n",
    "    - Varaible Length\n",
    "        - Arbitary Positional\n",
    "        - Arbitary Keyword "
   ]
  },
  {
   "cell_type": "markdown",
   "id": "3cba98e3",
   "metadata": {},
   "source": [
    "## Default Argument"
   ]
  },
  {
   "cell_type": "code",
   "execution_count": 47,
   "id": "d10d1ee6",
   "metadata": {},
   "outputs": [
    {
     "name": "stdout",
     "output_type": "stream",
     "text": [
      "Enter Roll Number: 21F21A320\n",
      "Enter Name: Prasad\n",
      "Entered Name is: Prasad\n",
      "Entered Roll Number is: 21F21A320\n"
     ]
    }
   ],
   "source": [
    "def stdnt(a,b):\n",
    "    print(f\"Entered Name is: {b}\")\n",
    "    print(f\"Entered Roll Number is: {a}\")\n",
    "    return\n",
    "\n",
    "r = input(\"Enter Roll Number: \")\n",
    "n = input(\"Enter Name: \")\n",
    "stdnt(r,n)"
   ]
  },
  {
   "cell_type": "code",
   "execution_count": 48,
   "id": "810124e9",
   "metadata": {},
   "outputs": [
    {
     "name": "stdout",
     "output_type": "stream",
     "text": [
      "Enter Roll Number: 458\n",
      "Enter Name: Kalyani\n",
      "Entered Name is: Kalyani\n",
      "Entered Roll Number is: 458\n",
      "Branch is: CSM\n"
     ]
    }
   ],
   "source": [
    "def stdnt(a,b,c=\"CSM\"):\n",
    "    print(f\"Entered Name is: {b}\")\n",
    "    print(f\"Entered Roll Number is: {a}\")\n",
    "    print(f\"Branch is: {c}\")\n",
    "    return\n",
    "\n",
    "r = input(\"Enter Roll Number: \")\n",
    "n = input(\"Enter Name: \")\n",
    "stdnt(r,n)"
   ]
  },
  {
   "cell_type": "code",
   "execution_count": 49,
   "id": "49d55c2a",
   "metadata": {},
   "outputs": [
    {
     "name": "stdout",
     "output_type": "stream",
     "text": [
      "Enter Roll Number: 125\n",
      "Enter Name: Prasad\n",
      "Enter Branch: CSE\n",
      "Entered Name is: Prasad\n",
      "Entered Roll Number is: 125\n",
      "Branch is: CSE\n"
     ]
    }
   ],
   "source": [
    "def stdnt(a,b,c=\"CSM\"):\n",
    "    print(f\"Entered Name is: {b}\")\n",
    "    print(f\"Entered Roll Number is: {a}\")\n",
    "    print(f\"Branch is: {c}\")\n",
    "    return\n",
    "\n",
    "r = input(\"Enter Roll Number: \")\n",
    "n = input(\"Enter Name: \")\n",
    "y = input(\"Enter Branch: \")\n",
    "stdnt(r,n,y)"
   ]
  },
  {
   "cell_type": "code",
   "execution_count": 50,
   "id": "be217837",
   "metadata": {},
   "outputs": [
    {
     "ename": "SyntaxError",
     "evalue": "non-default argument follows default argument (311374505.py, line 1)",
     "output_type": "error",
     "traceback": [
      "\u001b[1;36m  Cell \u001b[1;32mIn[50], line 1\u001b[1;36m\u001b[0m\n\u001b[1;33m    def stdnt(a,b=\"Tilak\",c):\u001b[0m\n\u001b[1;37m                           ^\u001b[0m\n\u001b[1;31mSyntaxError\u001b[0m\u001b[1;31m:\u001b[0m non-default argument follows default argument\n"
     ]
    }
   ],
   "source": [
    "def stdnt(a,b=\"Tilak\",c):\n",
    "    print(f\"Entered Name is: {b}\")\n",
    "    print(f\"Entered Roll Number is: {a}\")\n",
    "    print(f\"Branch is: {c}\")\n",
    "    return\n",
    "\n",
    "r = input(\"Enter Roll Number: \")\n",
    "n = input(\"Enter Name: \")\n",
    "y = input(\"Enter Branch: \")\n",
    "stdnt(r,n,y)"
   ]
  },
  {
   "cell_type": "code",
   "execution_count": null,
   "id": "1da16898",
   "metadata": {},
   "outputs": [],
   "source": []
  }
 ],
 "metadata": {
  "kernelspec": {
   "display_name": "Python 3 (ipykernel)",
   "language": "python",
   "name": "python3"
  },
  "language_info": {
   "codemirror_mode": {
    "name": "ipython",
    "version": 3
   },
   "file_extension": ".py",
   "mimetype": "text/x-python",
   "name": "python",
   "nbconvert_exporter": "python",
   "pygments_lexer": "ipython3",
   "version": "3.9.13"
  }
 },
 "nbformat": 4,
 "nbformat_minor": 5
}
